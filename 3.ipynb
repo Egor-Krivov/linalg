{
 "metadata": {
  "name": "",
  "signature": "sha256:fd543b4157fa9cd1c7bf47c0bbb2084c37d75c85638f5bf1dbda6c4e38216a98"
 },
 "nbformat": 3,
 "nbformat_minor": 0,
 "worksheets": [
  {
   "cells": [
    {
     "cell_type": "code",
     "collapsed": false,
     "input": [
      "import numpy as np\n",
      "import scipy.linalg as lin\n",
      "\n",
      "eps = 1e-9\n",
      "np.set_printoptions(suppress=True)\n",
      "assert_equal = lambda x, y: np.testing.assert_allclose(x, y, atol=eps)"
     ],
     "language": "python",
     "metadata": {},
     "outputs": [],
     "prompt_number": 41
    },
    {
     "cell_type": "code",
     "collapsed": false,
     "input": [
      "def gauss(A: np.array, b: np.array):\n",
      "    \"\"\"Solves equation Ax=b for invertible matrix A, using gaussian elimination.\n",
      "    A is numpy array (n, n)\n",
      "    b is numpy array (n, 1)\n",
      "    returns x as numpy array (n, 1)\"\"\"\n",
      "    assert(A.shape[0] == A.shape[1] == b.shape[0] and b.shape[1] == 1)\n",
      "    n = A.shape[0]\n",
      "    A = np.hstack((A, b))\n",
      "    \n",
      "    for i in range(n):\n",
      "        max_i = i + np.abs(A[i:,i]).argmax()\n",
      "        A[[i, max_i], :] = A[[max_i, i],:]        \n",
      "        A[i] /= A[i, i] \n",
      "        A[i + 1:] -= np.tile(A[i], (n - i - 1, 1)) * A[i + 1:, i].reshape((n - i - 1, 1))\n",
      "    x = A[:, n].copy()\n",
      "    for i in reversed(range(0, n)):\n",
      "        x[i] -= np.sum(A[i, i + 1:n] * x[i + 1:])\n",
      "    return x.reshape((n, 1))"
     ],
     "language": "python",
     "metadata": {},
     "outputs": [],
     "prompt_number": 42
    },
    {
     "cell_type": "code",
     "collapsed": false,
     "input": [
      "def norm(x):\n",
      "    return np.sum(np.abs(x) ** 2) ** 0.5\n",
      "\n",
      "#test\n",
      "eps = 10 ** (-7)\n",
      "x = np.array([1.0, 2.0])\n",
      "assert_equal(norm(x) ** 2, 5.0)"
     ],
     "language": "python",
     "metadata": {},
     "outputs": [],
     "prompt_number": 43
    },
    {
     "cell_type": "code",
     "collapsed": false,
     "input": [
      "def house(x):\n",
      "    eps = 10 ** (-14)\n",
      "    n = x.shape[0]\n",
      "    s = norm(x[1:]) ** 2\n",
      "    v = x.copy()\n",
      "    v[0] = 1.0\n",
      "    if s > 0.0:\n",
      "        mu = (s + x[0] ** 2) ** 0.5\n",
      "        if x[0] <= 0:\n",
      "            v[0] = x[0] - mu\n",
      "        else:\n",
      "            v[0] = -s / (x[0] + mu)\n",
      "        beta = 2 * v[0] ** 2 / (s + v[0] ** 2)\n",
      "        v /= v[0]\n",
      "    else:\n",
      "        assert False\n",
      "        beta = 0.0 if x[0] >= 0.0 else -2.0\n",
      "    v = v.reshape(n, 1)    \n",
      "    return v, beta\n",
      "\n",
      "#test\n",
      "n = 1000\n",
      "eps = 1e-7\n",
      "x = np.random.rand(n)\n",
      "v, beta = house(x)\n",
      "x = x.reshape(n, 1)\n",
      "v = v.reshape(n, 1)\n",
      "P = np.identity(n) - beta * np.dot(v, v.T)\n",
      "assert_equal(np.dot(P, P.T), np.identity(n))\n",
      "assert_equal(np.dot(P.T, P), np.identity(n))\n",
      "e1 = np.zeros(n).reshape(n, 1)\n",
      "e1[0] = 1.0\n",
      "assert_equal(np.dot(P, x), norm(x) * e1)"
     ],
     "language": "python",
     "metadata": {},
     "outputs": [],
     "prompt_number": 113
    },
    {
     "cell_type": "code",
     "collapsed": false,
     "input": [
      "def hess(A):\n",
      "    A = A.copy()\n",
      "    shape = A.shape\n",
      "    assert shape[0] == shape[1]\n",
      "    n = shape[0]\n",
      "    for i in range(n - 2):\n",
      "        v, beta = house(A[i + 1:, i])\n",
      "        v = v.reshape(n - i - 1, 1)\n",
      "        I = np.identity(n - i - 1)\n",
      "        A[i + 1:, i:] = np.dot(I - beta * np.dot(v, v.T), A[i + 1:, i:])\n",
      "        A[:, i + 1:] = np.dot(A[:, i + 1:], I - beta * np.dot(v, v.T))\n",
      "    return A\n",
      "\n",
      "#test\n",
      "eps = 10 ** (-7)\n",
      "n = 400\n",
      "A = np.random.rand(n, n)\n",
      "L = hess(A)\n",
      "L_eig = lin.eig(L)[0]\n",
      "A_eig = lin.eig(A)[0]\n",
      "L_eig_real = L_eig.real\n",
      "A_eig_real = A_eig.real\n",
      "L_eig_real.sort()\n",
      "A_eig_real.sort()\n",
      "assert_equal(L_eig_real, A_eig_real)\n",
      "L_eig_imag = L_eig.imag\n",
      "A_eig_imag = A_eig.imag\n",
      "L_eig_imag.sort()\n",
      "A_eig_imag.sort()\n",
      "assert_equal(L_eig_imag, A_eig_imag)\n",
      "\n",
      "T = L.copy()\n",
      "for i in range(n - 2):\n",
      "    T[i + 2:, i] = 0\n",
      "assert_equal(L, T)"
     ],
     "language": "python",
     "metadata": {},
     "outputs": [],
     "prompt_number": 103
    },
    {
     "cell_type": "code",
     "collapsed": false,
     "input": [
      "def q_2_by_2(A):\n",
      "    n, m = A.shape\n",
      "    assert n == m == 2\n",
      "    R = A.copy()\n",
      "    v, beta = house(A[:, 0])\n",
      "    Q = np.identity(2) - beta * np.dot(v, v.T)\n",
      "    return Q\n",
      "\n",
      "def single_shift_2_by_2(A):\n",
      "    n, m = A.shape\n",
      "    assert n == m == 2\n",
      "    mu = A[1, 1]\n",
      "    Q = q_2_by_2(A - np.identity(2) * mu)\n",
      "    A[:, :] = np.dot(Q.T, A - mu * np.identity(2))\n",
      "    A[:, :] = np.dot(A, Q) + mu * np.identity(2)\n",
      "    return Q\n",
      "\n",
      "#test\n",
      "iterations = 100\n",
      "eps = 1e-9\n",
      "A = np.diag(np.random.rand(2))\n",
      "C = np.random.rand(2, 2)\n",
      "A = np.dot(np.dot(lin.inv(C), A), C)\n",
      "t_eigenval = lin.eig(A)[0]\n",
      "t_eigenval = t_eigenval.real\n",
      "t_eigenval.sort()\n",
      "i = 0\n",
      "while abs(A[1, 0]) > eps:\n",
      "    B = A.copy()\n",
      "    Q = single_shift_2_by_2(B)\n",
      "    assert_equal(np.dot(np.dot(Q.T, A), Q), B)\n",
      "    A = B\n",
      "    i += 1\n",
      "    if i > iterations:\n",
      "        assert False\n",
      "        \n",
      "e_eigenval = np.array([A[0, 0], A[1, 1]])\n",
      "e_eigenval.sort()\n",
      "assert_equal(e_eigenval, t_eigenval)\n",
      "\n",
      "def single_shift_2_by_2_iteration(H, H12, H23):\n",
      "    Q = single_shift_2_by_2(H)\n",
      "    H12[:,:] = np.dot(H12, Q)\n",
      "    H23[:,:] = np.dot(Q.T, H23)"
     ],
     "language": "python",
     "metadata": {},
     "outputs": [],
     "prompt_number": 104
    },
    {
     "cell_type": "code",
     "collapsed": false,
     "input": [
      "def francis_qr_step(H, H12, H23):\n",
      "    shape = H.shape\n",
      "    assert shape[0] == shape[1]\n",
      "    n = shape[0] - 1\n",
      "    m = n - 1\n",
      "    s = H[m, m] + H[n, n]\n",
      "    t = H[m, m] * H[n, n] - H[m, n] * H[n, m]\n",
      "    #print('s = ', s, ' t = ', t)\n",
      "    x = H[0, 0] ** 2 + H[0, 1] * H[1, 0] - s * H[0, 0] + t\n",
      "    y = H[1, 0] * (H[0, 0] + H[1, 1] - s)\n",
      "    if n > 1:\n",
      "        z = H[1, 0] * H[2, 1]\n",
      "    for k in range(n - 1):\n",
      "        v, beta = house(np.array([x, y, z]))\n",
      "        #print('beta is ', beta)\n",
      "        q = k - 1 if k > 0 else k\n",
      "        Q = np.identity(3) - beta * np.dot(v, v.T)\n",
      "        H[k: k+3, q:] = np.dot(Q, H[k: k+3, q:])\n",
      "        H23[k: k+3, :] = np.dot(Q, H23[k: k+3, :])\n",
      "        r = min(k + 4, n + 1)\n",
      "        H[:r, k:k+3] = np.dot(H[:r, k:k+3], Q)\n",
      "        H12[:, k:k+3] = np.dot(H12[:, k:k+3], Q)\n",
      "        x = H[k+1, k]\n",
      "        y = H[k+2, k]\n",
      "        if k < n - 2:\n",
      "            z = H[k + 3, k]\n",
      "    #print(x, y)\n",
      "    v, beta = house(np.array([x, y]))\n",
      "    Q = np.identity(2) - beta * np.dot(v, v.T)\n",
      "    H[n-1:, n-2:] = np.dot(Q, H[n-1:, n-2:])\n",
      "    H23[n-1:, :] = np.dot(Q, H23[n-1:, :])\n",
      "    H[:, n-1:] = np.dot(H[:, n-1:], Q)\n",
      "    H12[:, n-1:] = np.dot(H12[:, n-1:], Q)"
     ],
     "language": "python",
     "metadata": {},
     "outputs": [],
     "prompt_number": 105
    },
    {
     "cell_type": "code",
     "collapsed": false,
     "input": [
      "def discr(A):\n",
      "    return (A[0, 0] - A[1, 1]) ** 2 + 4 * A[0, 1] * A[1, 0]\n",
      "    \n",
      "def schur(A):\n",
      "    eps = 1e-7\n",
      "    A = A.copy()\n",
      "    shape = A.shape\n",
      "    assert shape[0] == shape[1]\n",
      "    n = shape[0]\n",
      "    q = n\n",
      "    structure = []\n",
      "    while q > 1:\n",
      "        #print('q = ', q)\n",
      "        for i in reversed(range(q)):\n",
      "            if i == 0 and q == 2 or abs(A[i, i - 1]) < eps * np.max(np.abs([A[i, i], A[i - 1][i - 1]])):\n",
      "                A[i, i - 1] = 0.0\n",
      "                if i == q - 1:\n",
      "                    q -= 1\n",
      "                    structure.insert(0, i)\n",
      "                elif i == q - 2:\n",
      "                    B = A[i:i+2, i:i+2]\n",
      "                    if discr(B) > eps:\n",
      "                        #print('real eigenvalues')\n",
      "                        #print(q - i)\n",
      "                        #print(B)\n",
      "                        single_shift_2_by_2_iteration(B, A[:i, i:q], A[i:q, q:])\n",
      "                    else:\n",
      "                        q -= 2\n",
      "                        structure.insert(0, i)\n",
      "                else:\n",
      "                    #print(A)\n",
      "                    francis_qr_step(A[i:q, i:q], A[:i, i:q], A[i:q, q:])\n",
      "                break\n",
      "        else:\n",
      "            #print(A[:q, :q])\n",
      "            francis_qr_step(A[:q, :q], A[:1, :q].copy(), A[:q, q:])\n",
      "    structure.insert(0, 0)\n",
      "    return A, structure\n",
      "\n",
      "#test\n",
      "#n = 100\n",
      "#A = np.random.rand(n, n)\n",
      "#B = hess(A)\n",
      "#L = schur(B)[0]\n",
      "\n",
      "n = 5\n",
      "A = np.diag(np.random.rand(n))\n",
      "#A = np.random.rand(n, n)\n",
      "#A = np.array([[3, 0, 0], [0, 3, 0], [0, 0, 1]], dtype=float)\n",
      "C = np.random.rand(n, n)\n",
      "A = np.dot(np.dot(lin.inv(C), A), C)\n",
      "\n",
      "B = hess(A)\n",
      "L = schur(B)[0]\n",
      "print(L)\n",
      "\n",
      "eps = 1e-9\n",
      "for i in range(n):\n",
      "    for j in range(i + 1, n):\n",
      "        if abs(L[j, i]) > eps:\n",
      "            print(abs(L[j, i]))\n",
      "            assert False\n",
      "\n",
      "L_eig = lin.eig(L)[0].real\n",
      "A_eig = lin.eig(A)[0].real\n",
      "\n",
      "#print(L_eig)\n",
      "#print(A_eig)\n",
      "\n",
      "A_eig.sort()\n",
      "L_eig.sort()\n",
      "\n",
      "print(L_eig)\n",
      "print(A_eig)\n",
      "\n",
      "print(np.max(np.abs(A_eig - L_eig)))\n",
      "\n",
      "#L_eig = np.array(L_eig, dtype=float)\n",
      "#A_eig = np.array(A_eig, dtype=float)\n",
      "\n",
      "#assert_equal(L_eig.sort(), A_eig.sort())\n",
      "\n",
      "#L_eig_real = L_eig.real\n",
      "#A_eig_real = A_eig.real\n",
      "#L_eig_real.sort()\n",
      "#A_eig_real.sort()\n",
      "#assert_equal(L_eig_real, A_eig_real)\n",
      "#L_eig_imag = L_eig.imag\n",
      "#A_eig_imag = A_eig.imag\n",
      "#L_eig_imag.sort()\n",
      "#A_eig_imag.sort()\n",
      "#assert_equal(L_eig_imag, A_eig_imag)"
     ],
     "language": "python",
     "metadata": {},
     "outputs": [
      {
       "output_type": "stream",
       "stream": "stdout",
       "text": [
        "[[ 0.24334291  8.64303454 -7.96615078  2.04680015 -7.38806102]\n",
        " [ 0.          0.99881281 -0.79021925  0.19577533 -1.07740818]\n",
        " [ 0.          0.          0.45299093  0.03389453 -0.31804149]\n",
        " [ 0.         -0.          0.          0.7295402  -0.09679819]\n",
        " [-0.          0.          0.          0.          0.6474056 ]]\n",
        "[ 0.24334291  0.45299093  0.6474056   0.7295402   0.99881281]\n",
        "[ 0.24334264  0.45299092  0.6474056   0.7295402   0.99881308]\n",
        "2.73497942238e-07\n"
       ]
      }
     ],
     "prompt_number": 142
    },
    {
     "cell_type": "code",
     "collapsed": false,
     "input": [
      "n = 10\n",
      "#A = np.diag(np.random.rand(n))\n",
      "A = np.random.rand(n, n)\n",
      "#A = np.array([[3, 0, 0], [0, 3, 0], [0, 0, 1]], dtype=float)\n",
      "C = np.random.rand(n, n)\n",
      "A = np.dot(np.dot(lin.inv(C), A), C)\n",
      "print(lin.eig(A)[0])\n",
      "#x = A\n",
      "#print(x)\n",
      "\n",
      "\n",
      "A = hess(A)\n",
      "print(schur(A))\n",
      "#lin.schur(A)[0]\n",
      "#eigenvalues = eigenval(A)\n",
      "#print(eigenvalues)\n",
      "#x = inverse_iteration(A, eigenvalues[0])\n",
      "#print(x)\n",
      "#np.max(np.abs(np.dot(A - eigenvalues[0] * np.identity(A.shape[0]), x)))"
     ],
     "language": "python",
     "metadata": {},
     "outputs": [
      {
       "output_type": "stream",
       "stream": "stdout",
       "text": [
        "[ 5.13238990+0.j          0.95772862+0.j         -0.07549979+0.91280766j\n",
        " -0.07549979-0.91280766j  0.03062178+0.43046769j  0.03062178-0.43046769j\n",
        " -0.46357809+0.j         -0.15641543+0.j         -0.26390511+0.36013406j\n",
        " -0.26390511-0.36013406j]\n",
        "(array([[   5.13239164,  -35.76214513,   48.92385655,   62.28168822,\n",
        "         -78.48403042,   65.77283591,  -55.44622359, -100.60448471,\n",
        "         -61.00379273,   87.94615462],\n",
        "       [   0.        ,    0.95772665,    2.31296645,    7.34232479,\n",
        "           0.13932464,    1.60812233,   -4.56294783,    1.07181713,\n",
        "          -1.83361383,    0.80421701],\n",
        "       [  -0.        ,    0.        ,   -0.35547193,   -3.49970929,\n",
        "           0.57388352,   -0.45031092,    0.74029228,    0.96736706,\n",
        "           0.19206963,   -0.26755525],\n",
        "       [  -0.        ,    0.        ,    0.26047943,    0.20447263,\n",
        "           0.29167608,    0.06517029,   -0.21533782,    0.30007767,\n",
        "          -0.56018288,    0.2014895 ],\n",
        "       [  -0.        ,    0.        ,    0.        ,    0.        ,\n",
        "           0.20624257,   -0.56608551,   -0.44834508,   -0.76102733,\n",
        "           0.1892505 ,   -0.84017627],\n",
        "       [   0.        ,    0.        ,    0.        ,   -0.        ,\n",
        "           0.38182414,   -0.14499904,   -0.38666841,    0.16347673,\n",
        "          -0.00727451,   -0.48274078],\n",
        "       [  -0.        ,   -0.        ,   -0.        ,    0.        ,\n",
        "           0.        ,    0.        ,   -0.4635781 ,   -0.22973431,\n",
        "           0.57067043,   -0.72440867],\n",
        "       [   0.        ,   -0.        ,    0.        ,    0.        ,\n",
        "          -0.        ,    0.        ,    0.        ,   -0.15641543,\n",
        "          -0.03691449,   -0.56977767],\n",
        "       [  -0.        ,   -0.        ,   -0.        ,   -0.        ,\n",
        "           0.        ,   -0.        ,    0.        ,    0.        ,\n",
        "          -0.45213604,   -0.32813718],\n",
        "       [   0.        ,    0.        ,    0.        ,   -0.        ,\n",
        "           0.        ,    0.        ,    0.        ,    0.        ,\n",
        "           0.50322681,   -0.07567418]]), [0, 1, 2, 4, 6, 7, 8])\n"
       ]
      },
      {
       "metadata": {},
       "output_type": "pyout",
       "prompt_number": 147,
       "text": [
        "array([[   5.1323899 ,  -35.76214331,   43.42085304,  -66.23581534,\n",
        "          33.12925055,   96.89303804,   55.44622211,  100.60448486,\n",
        "        -106.95243031,    4.14324729],\n",
        "       [   0.        ,    0.95772862,    1.67686528,   -7.51316241,\n",
        "          -0.95129915,    1.30402805,    4.56294496,   -1.07182229,\n",
        "          -1.66402037,    1.1135179 ],\n",
        "       [   0.        ,    0.        ,   -0.07549979,    3.52373006,\n",
        "          -0.2329283 ,   -0.67165277,   -0.75599025,   -0.93817534,\n",
        "           0.36792889,   -0.04911396],\n",
        "       [   0.        ,    0.        ,   -0.23645904,   -0.07549979,\n",
        "           0.30434206,    0.15312457,   -0.15126824,    0.38167137,\n",
        "           0.44126643,   -0.36108134],\n",
        "       [   0.        ,    0.        ,    0.        ,    0.        ,\n",
        "           0.03062178,    0.6722746 ,   -0.58373286,   -0.56664992,\n",
        "          -0.90183008,   -0.38754581],\n",
        "       [   0.        ,    0.        ,    0.        ,    0.        ,\n",
        "          -0.27563504,    0.03062178,    0.09890269,   -0.53366192,\n",
        "          -0.07423501,    0.07617989],\n",
        "       [   0.        ,    0.        ,    0.        ,    0.        ,\n",
        "           0.        ,    0.        ,   -0.46357809,   -0.2297343 ,\n",
        "          -0.91762692,    0.09161595],\n",
        "       [   0.        ,    0.        ,    0.        ,    0.        ,\n",
        "           0.        ,    0.        ,    0.        ,   -0.15641543,\n",
        "          -0.46054303,   -0.33750465],\n",
        "       [   0.        ,    0.        ,    0.        ,    0.        ,\n",
        "           0.        ,    0.        ,    0.        ,    0.        ,\n",
        "          -0.26390511,    0.62327529],\n",
        "       [   0.        ,    0.        ,    0.        ,    0.        ,\n",
        "           0.        ,    0.        ,    0.        ,    0.        ,\n",
        "          -0.20808869,   -0.26390511]])"
       ]
      }
     ],
     "prompt_number": 147
    },
    {
     "cell_type": "code",
     "collapsed": false,
     "input": [
      "def eigenval_2_by_2(A):\n",
      "    B = np.array(A, dtype=complex)\n",
      "    a = B[0,0]\n",
      "    b = B[0,1]\n",
      "    c = B[1,0]\n",
      "    d = B[1,1]\n",
      "    discr = np.sqrt((a - d) ** 2 + 4 * b * c)\n",
      "    x = (a + d + discr) / 2\n",
      "    y = (a + d - discr) / 2\n",
      "    return x, y\n",
      "\n",
      "def eigenval(A):\n",
      "    A = hess(A)\n",
      "    A, structure = schur(A)\n",
      "    structure.append(A.shape[0])\n",
      "    eigenvalues = []\n",
      "    #print(structure)\n",
      "    for i, val in enumerate(structure[:-1]):\n",
      "        n = structure[i+1] - structure[i]\n",
      "        if n == 1:\n",
      "            eigenvalues.append(A[val, val])\n",
      "        elif n == 2:\n",
      "            x, y = eigenval_2_by_2(A[val:val+2, val:val+2])\n",
      "            eigenvalues.extend([x, y])\n",
      "        else:\n",
      "            assert False, 'Not schur form'\n",
      "    return eigenvalues\n",
      "\n",
      "#test\n",
      "n = 10\n",
      "A = np.random.rand(n, n)\n",
      "\n",
      "L_eig = np.array(eigenval(A))\n",
      "A_eig = lin.eig(A)[0]\n",
      "L_eig_real = L_eig.real\n",
      "A_eig_real = A_eig.real\n",
      "L_eig_real.sort()\n",
      "A_eig_real.sort()\n",
      "assert_equal(L_eig_real, A_eig_real)\n",
      "L_eig_imag = L_eig.imag\n",
      "A_eig_imag = A_eig.imag\n",
      "L_eig_imag.sort()\n",
      "A_eig_imag.sort()\n",
      "assert_equal(L_eig_imag, A_eig_imag)"
     ],
     "language": "python",
     "metadata": {},
     "outputs": [],
     "prompt_number": 21
    },
    {
     "cell_type": "code",
     "collapsed": false,
     "input": [
      "def inverse_iteration(A, l, tol=1e-7):\n",
      "    'A is a matrix, l is an eigenvector of A'\n",
      "    shape = A.shape\n",
      "    assert shape[0] == shape[1]\n",
      "    n = shape[0]\n",
      "    A = np.array(A, dtype=complex)\n",
      "    x = np.ones(n).reshape(n, 1)\n",
      "    x = x / norm(x)\n",
      "    r = norm(np.dot(A - l * np.identity(n), x))\n",
      "    i = 0\n",
      "    while r > eps and i < 100:\n",
      "        x = gauss(A - np.identity(n) * l, x)\n",
      "        x = x / norm(x)\n",
      "        #l = np.dot(np.dot(x.T, A), x)\n",
      "        r = np.max(np.abs(np.dot(A - l * np.identity(n), x)))\n",
      "        i += 1\n",
      "    else:\n",
      "        #print('converged after ', i, ' iterations')\n",
      "        return x\n",
      "    assert False, 'no convergence'\n",
      "\n",
      "#test\n",
      "atol = 1e-9\n",
      "n = 100\n",
      "A = np.random.rand(n, n)\n",
      "\n",
      "eigenvalues, eigenvectors = lin.eig(A)\n",
      "for eigenvalue in eigenvalues:\n",
      "    x = inverse_iteration(A, eigenvalue)\n",
      "    r = np.max(np.abs(np.dot(A - eigenvalue * np.identity(A.shape[0]), x)))\n",
      "    assert r < atol"
     ],
     "language": "python",
     "metadata": {},
     "outputs": [],
     "prompt_number": 22
    },
    {
     "cell_type": "code",
     "collapsed": false,
     "input": [
      "n = 10\n",
      "A = np.random.rand(n, n)\n",
      "t = lin.eig(A)\n",
      "e = eigenval(A)\n",
      "print(t[0])\n",
      "print(e)\n",
      "\n",
      "k = 0\n",
      "print('\\n', k, '-s eigenvector', sep=\"\")\n",
      "l = t[0][k]\n",
      "print(t[1][:, k].reshape(n, 1))\n",
      "x = inverse_iteration(A, l)\n",
      "print('\\n', x)\n",
      "\n",
      "print('\\n\\n')\n",
      "print(np.dot(A, x))\n",
      "print(l * x)"
     ],
     "language": "python",
     "metadata": {},
     "outputs": [
      {
       "output_type": "stream",
       "stream": "stdout",
       "text": [
        "[ 4.76913100+0.j         -0.73834452+0.j         -0.61034723+0.31032069j\n",
        " -0.61034723-0.31032069j  0.38318705+0.4368372j   0.38318705-0.4368372j\n",
        "  0.30692987+0.39140377j  0.30692987-0.39140377j  0.45994624+0.j\n",
        " -0.32756975+0.j        ]\n",
        "[4.7691310038879546, -0.73834451853458405, (-0.61034722706447531+0.31032069072800661j), (-0.61034722706447531-0.31032069072800661j), (0.3831870493746049+0.43683720062525139j), (0.3831870493746049-0.43683720062525139j), (0.30692987409368688+0.39140376782201491j), (0.30692987409368688-0.39140376782201491j), -0.32756974781043013, 0.4599462439170382]\n",
        "\n",
        "0-s eigenvector\n",
        "[[ 0.35094447+0.j]\n",
        " [ 0.25895891+0.j]\n",
        " [ 0.34020774+0.j]\n",
        " [ 0.27880333+0.j]\n",
        " [ 0.32782034+0.j]\n",
        " [ 0.25565770+0.j]\n",
        " [ 0.19450192+0.j]\n",
        " [ 0.37360810+0.j]\n",
        " [ 0.33564437+0.j]\n",
        " [ 0.39167267+0.j]]\n",
        "\n",
        " [[ 0.35094447-0.j]\n",
        " [ 0.25895891-0.j]\n",
        " [ 0.34020774-0.j]\n",
        " [ 0.27880333-0.j]\n",
        " [ 0.32782034-0.j]\n",
        " [ 0.25565770-0.j]\n",
        " [ 0.19450192-0.j]\n",
        " [ 0.37360810-0.j]\n",
        " [ 0.33564437-0.j]\n",
        " [ 0.39167267+0.j]]\n",
        "\n",
        "\n",
        "\n",
        "[[ 1.67370017+0.j]\n",
        " [ 1.23500895+0.j]\n",
        " [ 1.62249528+0.j]\n",
        " [ 1.32964960+0.j]\n",
        " [ 1.56341813+0.j]\n",
        " [ 1.21926506+0.j]\n",
        " [ 0.92760511+0.j]\n",
        " [ 1.78178596+0.j]\n",
        " [ 1.60073195+0.j]\n",
        " [ 1.86793827+0.j]]\n",
        "[[ 1.67370017+0.j]\n",
        " [ 1.23500895+0.j]\n",
        " [ 1.62249528+0.j]\n",
        " [ 1.32964960+0.j]\n",
        " [ 1.56341813+0.j]\n",
        " [ 1.21926506+0.j]\n",
        " [ 0.92760511+0.j]\n",
        " [ 1.78178596+0.j]\n",
        " [ 1.60073195+0.j]\n",
        " [ 1.86793827+0.j]]\n"
       ]
      }
     ],
     "prompt_number": 23
    },
    {
     "cell_type": "code",
     "collapsed": false,
     "input": [
      "n = 4\n",
      "A = np.diag(np.random.rand(n))\n",
      "#A = np.random.rand(n, n)\n",
      "#A = np.array([[3, 0, 0], [0, 1, 0], [0, 0, 3]], dtype=float)\n",
      "C = np.random.rand(n, n)\n",
      "A = np.dot(np.dot(lin.inv(C), A), C)\n",
      "A = hess(A)\n",
      "#schur(A)\n",
      "A, lin.eig(A)[0]"
     ],
     "language": "python",
     "metadata": {},
     "outputs": [
      {
       "metadata": {},
       "output_type": "pyout",
       "prompt_number": 24,
       "text": [
        "(array([[  6.01632488,  -1.42359524,   1.42977745,   9.54957822],\n",
        "        [ 22.81307891,  -5.39201837,   5.9850358 ,  36.5543444 ],\n",
        "        [ -0.        ,   0.00176307,   0.68391904,   0.05743399],\n",
        "        [  0.        ,   0.        ,   0.00307488,   0.04938928]]),\n",
        " array([ 0.55748828+0.j,  0.70205835+0.j,  0.04866820+0.j,  0.04940001+0.j]))"
       ]
      }
     ],
     "prompt_number": 24
    },
    {
     "cell_type": "code",
     "collapsed": false,
     "input": [
      "francis_qr_step(A[:, :], 4)\n",
      "A"
     ],
     "language": "python",
     "metadata": {},
     "outputs": [
      {
       "ename": "TypeError",
       "evalue": "francis_qr_step() takes 1 positional argument but 2 were given",
       "output_type": "pyerr",
       "traceback": [
        "\u001b[0;31m---------------------------------------------------------------------------\u001b[0m\n\u001b[0;31mTypeError\u001b[0m                                 Traceback (most recent call last)",
        "\u001b[0;32m<ipython-input-25-96782e500984>\u001b[0m in \u001b[0;36m<module>\u001b[0;34m()\u001b[0m\n\u001b[0;32m----> 1\u001b[0;31m \u001b[0mfrancis_qr_step\u001b[0m\u001b[0;34m(\u001b[0m\u001b[0mA\u001b[0m\u001b[0;34m[\u001b[0m\u001b[0;34m:\u001b[0m\u001b[0;34m,\u001b[0m \u001b[0;34m:\u001b[0m\u001b[0;34m]\u001b[0m\u001b[0;34m,\u001b[0m \u001b[0;36m4\u001b[0m\u001b[0;34m)\u001b[0m\u001b[0;34m\u001b[0m\u001b[0m\n\u001b[0m\u001b[1;32m      2\u001b[0m \u001b[0mA\u001b[0m\u001b[0;34m\u001b[0m\u001b[0m\n",
        "\u001b[0;31mTypeError\u001b[0m: francis_qr_step() takes 1 positional argument but 2 were given"
       ]
      }
     ],
     "prompt_number": 25
    },
    {
     "cell_type": "code",
     "collapsed": false,
     "input": [
      "francis_qr_step(A[0:3, 0:3], 3)\n",
      "A"
     ],
     "language": "python",
     "metadata": {},
     "outputs": [
      {
       "ename": "TypeError",
       "evalue": "francis_qr_step() takes 1 positional argument but 2 were given",
       "output_type": "pyerr",
       "traceback": [
        "\u001b[0;31m---------------------------------------------------------------------------\u001b[0m\n\u001b[0;31mTypeError\u001b[0m                                 Traceback (most recent call last)",
        "\u001b[0;32m<ipython-input-26-9f88ed27a0fe>\u001b[0m in \u001b[0;36m<module>\u001b[0;34m()\u001b[0m\n\u001b[0;32m----> 1\u001b[0;31m \u001b[0mfrancis_qr_step\u001b[0m\u001b[0;34m(\u001b[0m\u001b[0mA\u001b[0m\u001b[0;34m[\u001b[0m\u001b[0;36m0\u001b[0m\u001b[0;34m:\u001b[0m\u001b[0;36m3\u001b[0m\u001b[0;34m,\u001b[0m \u001b[0;36m0\u001b[0m\u001b[0;34m:\u001b[0m\u001b[0;36m3\u001b[0m\u001b[0;34m]\u001b[0m\u001b[0;34m,\u001b[0m \u001b[0;36m3\u001b[0m\u001b[0;34m)\u001b[0m\u001b[0;34m\u001b[0m\u001b[0m\n\u001b[0m\u001b[1;32m      2\u001b[0m \u001b[0mA\u001b[0m\u001b[0;34m\u001b[0m\u001b[0m\n",
        "\u001b[0;31mTypeError\u001b[0m: francis_qr_step() takes 1 positional argument but 2 were given"
       ]
      }
     ],
     "prompt_number": 26
    },
    {
     "cell_type": "code",
     "collapsed": false,
     "input": [
      "francis_qr_step(A[1:3, 1:3], 2)\n",
      "A"
     ],
     "language": "python",
     "metadata": {},
     "outputs": [
      {
       "ename": "TypeError",
       "evalue": "francis_qr_step() takes 1 positional argument but 2 were given",
       "output_type": "pyerr",
       "traceback": [
        "\u001b[0;31m---------------------------------------------------------------------------\u001b[0m\n\u001b[0;31mTypeError\u001b[0m                                 Traceback (most recent call last)",
        "\u001b[0;32m<ipython-input-27-60b8b6ea3a73>\u001b[0m in \u001b[0;36m<module>\u001b[0;34m()\u001b[0m\n\u001b[0;32m----> 1\u001b[0;31m \u001b[0mfrancis_qr_step\u001b[0m\u001b[0;34m(\u001b[0m\u001b[0mA\u001b[0m\u001b[0;34m[\u001b[0m\u001b[0;36m1\u001b[0m\u001b[0;34m:\u001b[0m\u001b[0;36m3\u001b[0m\u001b[0;34m,\u001b[0m \u001b[0;36m1\u001b[0m\u001b[0;34m:\u001b[0m\u001b[0;36m3\u001b[0m\u001b[0;34m]\u001b[0m\u001b[0;34m,\u001b[0m \u001b[0;36m2\u001b[0m\u001b[0;34m)\u001b[0m\u001b[0;34m\u001b[0m\u001b[0m\n\u001b[0m\u001b[1;32m      2\u001b[0m \u001b[0mA\u001b[0m\u001b[0;34m\u001b[0m\u001b[0m\n",
        "\u001b[0;31mTypeError\u001b[0m: francis_qr_step() takes 1 positional argument but 2 were given"
       ]
      }
     ],
     "prompt_number": 27
    },
    {
     "cell_type": "code",
     "collapsed": false,
     "input": [
      "A"
     ],
     "language": "python",
     "metadata": {},
     "outputs": [
      {
       "metadata": {},
       "output_type": "pyout",
       "prompt_number": 807,
       "text": [
        "array([[ 0.7393991 , -0.51710514, -0.73172977, -0.03365278],\n",
        "       [ 0.00142083,  0.56480078,  0.05080632,  1.10405181],\n",
        "       [ 0.        ,  0.        ,  0.3363329 ,  0.24348823],\n",
        "       [ 0.        ,  0.        , -0.        ,  0.98568865]])"
       ]
      }
     ],
     "prompt_number": 807
    },
    {
     "cell_type": "code",
     "collapsed": false,
     "input": [
      "single_shift_2_by_2(B)\n",
      "B"
     ],
     "language": "python",
     "metadata": {},
     "outputs": [
      {
       "metadata": {},
       "output_type": "pyout",
       "prompt_number": 806,
       "text": [
        "array([[ 0.73508443,  0.51852597, -0.7312804 , -0.02443984],\n",
        "       [-0.        ,  0.56911545, -0.05690982, -1.10429417],\n",
        "       [ 0.        , -0.        ,  0.3363329 ,  0.24348823],\n",
        "       [ 0.        ,  0.        , -0.        ,  0.98568865]])"
       ]
      }
     ],
     "prompt_number": 806
    },
    {
     "cell_type": "code",
     "collapsed": false,
     "input": [
      "n = 5\n",
      "A = np.diag(np.random.rand(n))\n",
      "#A = np.random.rand(n, n)\n",
      "#A = np.array([[3, 0], [0, 3]], dtype=float)\n",
      "C = np.random.rand(n, n)\n",
      "A = np.dot(np.dot(lin.inv(C), A), C)\n",
      "A, lin.eig(A)[0]"
     ],
     "language": "python",
     "metadata": {},
     "outputs": [
      {
       "metadata": {},
       "output_type": "pyout",
       "prompt_number": 785,
       "text": [
        "(array([[ 0.21979171, -0.15783694, -0.15315055, -0.47893977, -0.17737711],\n",
        "        [-0.02970851,  0.20067985, -0.12217604, -0.20760719, -0.18038435],\n",
        "        [-0.0417262 , -0.11773794,  0.18534874, -0.19737288, -0.06904216],\n",
        "        [-0.08666877,  0.03367083, -0.05547579,  0.39322406,  0.07753689],\n",
        "        [ 0.24522263,  0.28135801,  0.36520544,  0.68999515,  0.63733951]]),\n",
        " array([ 0.61492517+0.j,  0.08479084+0.j,  0.39179028+0.j,  0.32914391+0.j,\n",
        "         0.21573366+0.j]))"
       ]
      }
     ],
     "prompt_number": 785
    },
    {
     "cell_type": "code",
     "collapsed": false,
     "input": [
      "single_shift_2_by_2(A)\n",
      "A\n",
      "#A[:2, :] - np.identity(2)"
     ],
     "language": "python",
     "metadata": {},
     "outputs": [
      {
       "metadata": {},
       "output_type": "pyout",
       "prompt_number": 790,
       "text": [
        "array([[ 0.27937634,  0.12812842, -0.10013082, -0.37475226, -0.10223815],\n",
        "       [-0.        ,  0.14109522,  0.16839208,  0.36337968,  0.23140552],\n",
        "       [ 0.00254542,  0.12488723,  0.18534874, -0.19737288, -0.06904216],\n",
        "       [-0.0929753 , -0.00089132, -0.05547579,  0.39322406,  0.07753689],\n",
        "       [ 0.1300496 , -0.34983364,  0.36520544,  0.68999515,  0.63733951]])"
       ]
      }
     ],
     "prompt_number": 790
    },
    {
     "cell_type": "code",
     "collapsed": false,
     "input": [
      "mu = A[1, 1]\n",
      "print(mu)\n",
      "Q = q_2_by_2(A - np.identity(2) * mu)\n",
      "A = np.dot(np.dot(Q.T, A - np.identity(2) * mu), Q) + mu * np.identity(2)\n",
      "A"
     ],
     "language": "python",
     "metadata": {},
     "outputs": [
      {
       "output_type": "stream",
       "stream": "stdout",
       "text": [
        "0.162078880412\n"
       ]
      },
      {
       "metadata": {},
       "output_type": "pyout",
       "prompt_number": 709,
       "text": [
        "array([[  0.9256405 ,  17.87907884],\n",
        "       [  0.        ,   0.16207888]])"
       ]
      }
     ],
     "prompt_number": 709
    },
    {
     "cell_type": "code",
     "collapsed": false,
     "input": [],
     "language": "python",
     "metadata": {},
     "outputs": [
      {
       "metadata": {},
       "output_type": "pyout",
       "prompt_number": 723,
       "text": [
        "array([[ 0.62034828,  0.10410142],\n",
        "       [ 0.        ,  0.52891787]])"
       ]
      }
     ],
     "prompt_number": 723
    },
    {
     "cell_type": "code",
     "collapsed": false,
     "input": [
      "Q, R"
     ],
     "language": "python",
     "metadata": {},
     "outputs": [
      {
       "metadata": {},
       "output_type": "pyout",
       "prompt_number": 73,
       "text": [
        "(array([[-0.94027639,  0.34041197],\n",
        "        [ 0.34041197,  0.94027639]]), array([[-1.367686  , -1.12274934],\n",
        "        [-0.        ,  0.22108124]]))"
       ]
      }
     ],
     "prompt_number": 73
    },
    {
     "cell_type": "code",
     "collapsed": false,
     "input": [
      "    mu = A[1, 1]\n",
      "    Q = q_2_by_2(A[:2,:2] - np.identity(2) * mu)\n",
      "    print(np.dot(Q.T, A))\n",
      "    A[:2, :] = np.dot(Q.T, A[:2,:])\n",
      "    print(A)\n",
      "    A[:, :2] = np.dot(A[:, :2], Q + mu * np.identity(2))\n",
      "    print(A)"
     ],
     "language": "python",
     "metadata": {},
     "outputs": [
      {
       "output_type": "stream",
       "stream": "stdout",
       "text": [
        "[[ 3.31301567  0.16041747]\n",
        " [ 0.         -0.06404643]]\n",
        "[[ 3.31301567  0.16041747]\n",
        " [ 0.         -0.06404643]]\n",
        "[[ 3.5252025  -0.1501433 ]\n",
        " [ 0.          0.05994449]]\n"
       ]
      }
     ],
     "prompt_number": 849
    },
    {
     "cell_type": "code",
     "collapsed": false,
     "input": [
      "A = np.random.rand(2, 2)\n",
      "#print(A)\n",
      "#Q = q_2_by_2(A)\n",
      "#print(np.dot(Q, Q.T))\n",
      "#np.dot(Q.T, A)"
     ],
     "language": "python",
     "metadata": {},
     "outputs": [],
     "prompt_number": 826
    },
    {
     "cell_type": "code",
     "collapsed": false,
     "input": [
      "Q = q_2_by_2(A)\n",
      "print(np.dot(Q, Q.T))\n",
      "A = np.dot(np.dot(Q.T, A), Q)\n",
      "A"
     ],
     "language": "python",
     "metadata": {},
     "outputs": [
      {
       "output_type": "stream",
       "stream": "stdout",
       "text": [
        "[[ 1.  0.]\n",
        " [ 0.  1.]]\n"
       ]
      },
      {
       "metadata": {},
       "output_type": "pyout",
       "prompt_number": 850,
       "text": [
        "array([[ 3.5252025 ,  0.1501433 ],\n",
        "       [-0.        ,  0.05994449]])"
       ]
      }
     ],
     "prompt_number": 850
    },
    {
     "cell_type": "code",
     "collapsed": false,
     "input": [
      "A = np.diag(np.random.rand(2))\n",
      "C = np.random.rand(2, 2)\n",
      "A = np.dot(np.dot(lin.inv(C), A), C)\n",
      "lin.eig(A)[0]"
     ],
     "language": "python",
     "metadata": {},
     "outputs": [
      {
       "metadata": {},
       "output_type": "pyout",
       "prompt_number": 860,
       "text": [
        "array([ 0.89996495+0.j,  0.24845513+0.j])"
       ]
      }
     ],
     "prompt_number": 860
    },
    {
     "cell_type": "code",
     "collapsed": false,
     "input": [
      "B = A.copy()\n",
      "print(B)\n",
      "Q = single_shift_2_by_2(A)\n",
      "print(A)\n",
      "B = np.dot(Q.T, B)\n",
      "B = np.dot(B, Q)\n",
      "print(B)\n",
      "A = B"
     ],
     "language": "python",
     "metadata": {},
     "outputs": [
      {
       "output_type": "stream",
       "stream": "stdout",
       "text": [
        "[[  1.45746865   0.64525662   0.93008305   0.71780814   0.0508995\n",
        "    0.62175853   0.60379828]\n",
        " [-17.37918865 -14.56375373 -22.62407767 -18.85308234 -10.05479399\n",
        "  -13.89435197 -12.95041461]\n",
        " [ -0.31965467  -0.21737392   0.20105094  -0.26595188  -0.10089516\n",
        "   -0.22271614  -0.11113362]\n",
        " [ 10.94095603   9.71946625  13.77272775  12.6199963    6.04108114\n",
        "    8.89176331   8.39811333]\n",
        " [ -1.49281689  -1.36517718  -1.80666372  -1.71537433  -0.30017994\n",
        "   -1.19837115  -1.17359458]\n",
        " [  1.9480988    1.77496988   2.37206265   2.28705454   1.62330102\n",
        "    2.26966469   1.46878084]\n",
        " [  2.50351426   1.98577674   4.18160147   2.58718415   1.75582199\n",
        "    1.73810847   2.05977388]]\n"
       ]
      },
      {
       "ename": "AssertionError",
       "evalue": "",
       "output_type": "pyerr",
       "traceback": [
        "\u001b[0;31m---------------------------------------------------------------------------\u001b[0m\n\u001b[0;31mAssertionError\u001b[0m                            Traceback (most recent call last)",
        "\u001b[0;32m<ipython-input-111-7e5abd6fc548>\u001b[0m in \u001b[0;36m<module>\u001b[0;34m()\u001b[0m\n\u001b[1;32m      1\u001b[0m \u001b[0mB\u001b[0m \u001b[0;34m=\u001b[0m \u001b[0mA\u001b[0m\u001b[0;34m.\u001b[0m\u001b[0mcopy\u001b[0m\u001b[0;34m(\u001b[0m\u001b[0;34m)\u001b[0m\u001b[0;34m\u001b[0m\u001b[0m\n\u001b[1;32m      2\u001b[0m \u001b[0mprint\u001b[0m\u001b[0;34m(\u001b[0m\u001b[0mB\u001b[0m\u001b[0;34m)\u001b[0m\u001b[0;34m\u001b[0m\u001b[0m\n\u001b[0;32m----> 3\u001b[0;31m \u001b[0mQ\u001b[0m \u001b[0;34m=\u001b[0m \u001b[0msingle_shift_2_by_2\u001b[0m\u001b[0;34m(\u001b[0m\u001b[0mA\u001b[0m\u001b[0;34m)\u001b[0m\u001b[0;34m\u001b[0m\u001b[0m\n\u001b[0m\u001b[1;32m      4\u001b[0m \u001b[0mprint\u001b[0m\u001b[0;34m(\u001b[0m\u001b[0mA\u001b[0m\u001b[0;34m)\u001b[0m\u001b[0;34m\u001b[0m\u001b[0m\n\u001b[1;32m      5\u001b[0m \u001b[0mB\u001b[0m \u001b[0;34m=\u001b[0m \u001b[0mnp\u001b[0m\u001b[0;34m.\u001b[0m\u001b[0mdot\u001b[0m\u001b[0;34m(\u001b[0m\u001b[0mQ\u001b[0m\u001b[0;34m.\u001b[0m\u001b[0mT\u001b[0m\u001b[0;34m,\u001b[0m \u001b[0mB\u001b[0m\u001b[0;34m)\u001b[0m\u001b[0;34m\u001b[0m\u001b[0m\n",
        "\u001b[0;32m<ipython-input-104-8c85cfc1aab0>\u001b[0m in \u001b[0;36msingle_shift_2_by_2\u001b[0;34m(A)\u001b[0m\n\u001b[1;32m      9\u001b[0m \u001b[0;32mdef\u001b[0m \u001b[0msingle_shift_2_by_2\u001b[0m\u001b[0;34m(\u001b[0m\u001b[0mA\u001b[0m\u001b[0;34m)\u001b[0m\u001b[0;34m:\u001b[0m\u001b[0;34m\u001b[0m\u001b[0m\n\u001b[1;32m     10\u001b[0m     \u001b[0mn\u001b[0m\u001b[0;34m,\u001b[0m \u001b[0mm\u001b[0m \u001b[0;34m=\u001b[0m \u001b[0mA\u001b[0m\u001b[0;34m.\u001b[0m\u001b[0mshape\u001b[0m\u001b[0;34m\u001b[0m\u001b[0m\n\u001b[0;32m---> 11\u001b[0;31m     \u001b[0;32massert\u001b[0m \u001b[0mn\u001b[0m \u001b[0;34m==\u001b[0m \u001b[0mm\u001b[0m \u001b[0;34m==\u001b[0m \u001b[0;36m2\u001b[0m\u001b[0;34m\u001b[0m\u001b[0m\n\u001b[0m\u001b[1;32m     12\u001b[0m     \u001b[0mmu\u001b[0m \u001b[0;34m=\u001b[0m \u001b[0mA\u001b[0m\u001b[0;34m[\u001b[0m\u001b[0;36m1\u001b[0m\u001b[0;34m,\u001b[0m \u001b[0;36m1\u001b[0m\u001b[0;34m]\u001b[0m\u001b[0;34m\u001b[0m\u001b[0m\n\u001b[1;32m     13\u001b[0m     \u001b[0mQ\u001b[0m \u001b[0;34m=\u001b[0m \u001b[0mq_2_by_2\u001b[0m\u001b[0;34m(\u001b[0m\u001b[0mA\u001b[0m \u001b[0;34m-\u001b[0m \u001b[0mnp\u001b[0m\u001b[0;34m.\u001b[0m\u001b[0midentity\u001b[0m\u001b[0;34m(\u001b[0m\u001b[0;36m2\u001b[0m\u001b[0;34m)\u001b[0m \u001b[0;34m*\u001b[0m \u001b[0mmu\u001b[0m\u001b[0;34m)\u001b[0m\u001b[0;34m\u001b[0m\u001b[0m\n",
        "\u001b[0;31mAssertionError\u001b[0m: "
       ]
      }
     ],
     "prompt_number": 111
    },
    {
     "cell_type": "code",
     "collapsed": false,
     "input": [
      "lin.schur(A)"
     ],
     "language": "python",
     "metadata": {},
     "outputs": [
      {
       "metadata": {},
       "output_type": "pyout",
       "prompt_number": 112,
       "text": [
        "(array([[  0.02935215,   1.64351233,  -0.1489172 ,   8.88684967,\n",
        "          -4.15175893,  15.98058494,  47.97854302],\n",
        "        [  0.        ,   0.23253805,   0.01520361,   0.4098538 ,\n",
        "          -1.35830922,   1.53636722,   3.56626966],\n",
        "        [  0.        ,   0.        ,   0.41066281,   0.18942572,\n",
        "          -0.53573131,   0.32044652,   2.60983948],\n",
        "        [  0.        ,   0.        ,   0.        ,   0.70183996,\n",
        "           0.04511321,  -0.00890162,  -0.09270009],\n",
        "        [  0.        ,   0.        ,   0.        ,   0.        ,\n",
        "           0.82066621,  -0.02074226,  -0.04630117],\n",
        "        [  0.        ,   0.        ,   0.        ,   0.        ,\n",
        "           0.        ,   0.79263357,   0.09006334],\n",
        "        [  0.        ,   0.        ,   0.        ,   0.        ,\n",
        "           0.        ,   0.        ,   0.75632805]]),\n",
        " array([[ 0.03983019,  0.2066674 , -0.43650274,  0.73144301, -0.35949849,\n",
        "          0.2693412 ,  0.16844811],\n",
        "        [-0.84016546,  0.03304593, -0.0323367 , -0.26735783, -0.26044333,\n",
        "          0.22523155,  0.31928688],\n",
        "        [-0.03460352,  0.11913643,  0.23058189,  0.2297459 ,  0.73472317,\n",
        "          0.3562037 ,  0.46038974],\n",
        "        [ 0.49234229,  0.42532929, -0.04691538, -0.49441839, -0.26985072,\n",
        "          0.22216358,  0.45592478],\n",
        "        [-0.05457255,  0.01033231, -0.34790884,  0.03129514,  0.14849516,\n",
        "         -0.76965965,  0.510361  ],\n",
        "        [ 0.07225646, -0.17666789,  0.75203519,  0.28956179, -0.40793616,\n",
        "         -0.19453472,  0.33152502],\n",
        "        [ 0.20183672, -0.85427148, -0.25778508, -0.10701762, -0.04277658,\n",
        "          0.26508227,  0.2819181 ]]))"
       ]
      }
     ],
     "prompt_number": 112
    }
   ],
   "metadata": {}
  }
 ]
}