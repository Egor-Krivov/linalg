{
 "metadata": {
  "name": "",
  "signature": "sha256:d31f28c4edacf602dc861fe0c39d5f0b6619768b4580b73cbd418d3928cbc869"
 },
 "nbformat": 3,
 "nbformat_minor": 0,
 "worksheets": [
  {
   "cells": [
    {
     "cell_type": "code",
     "collapsed": false,
     "input": [
      "import numpy as np\n",
      "import scipy.linalg as lin\n",
      "\n",
      "eps = 1e-9\n",
      "np.set_printoptions(suppress=True)\n",
      "assert_equal = lambda x, y: np.testing.assert_allclose(x, y, atol=eps)"
     ],
     "language": "python",
     "metadata": {},
     "outputs": [],
     "prompt_number": 1014
    },
    {
     "cell_type": "code",
     "collapsed": false,
     "input": [
      "def gauss(A: np.array, b: np.array):\n",
      "    \"\"\"Solves equation Ax=b for invertible matrix A, using gaussian elimination.\n",
      "    A is numpy array (n, n)\n",
      "    b is numpy array (n, 1)\n",
      "    returns x as numpy array (n, 1)\"\"\"\n",
      "    assert(A.shape[0] == A.shape[1] == b.shape[0] and b.shape[1] == 1)\n",
      "    n = A.shape[0]\n",
      "    A = np.hstack((A, b))\n",
      "    \n",
      "    for i in range(n):\n",
      "        max_i = i + np.abs(A[i:,i]).argmax()\n",
      "        A[[i, max_i], :] = A[[max_i, i],:]        \n",
      "        A[i] /= A[i, i] \n",
      "        A[i + 1:] -= np.tile(A[i], (n - i - 1, 1)) * A[i + 1:, i].reshape((n - i - 1, 1))\n",
      "    x = A[:, n].copy()\n",
      "    for i in reversed(range(0, n)):\n",
      "        x[i] -= np.sum(A[i, i + 1:n] * x[i + 1:])\n",
      "    return x.reshape((n, 1))"
     ],
     "language": "python",
     "metadata": {},
     "outputs": [],
     "prompt_number": 1015
    },
    {
     "cell_type": "code",
     "collapsed": false,
     "input": [
      "def norm(x):\n",
      "    return np.sum(np.abs(x) ** 2) ** 0.5\n",
      "\n",
      "#test\n",
      "eps = 10 ** (-7)\n",
      "x = np.array([1.0, 2.0])\n",
      "assert_equal(norm(x) ** 2, 5.0)"
     ],
     "language": "python",
     "metadata": {},
     "outputs": [],
     "prompt_number": 1016
    },
    {
     "cell_type": "code",
     "collapsed": false,
     "input": [
      "def house(x):\n",
      "    eps = 10 ** (-40)\n",
      "    n = x.shape[0]\n",
      "    s = norm(x[1:]) ** 2\n",
      "    v = x.copy()\n",
      "    v[0] = 1.0\n",
      "    if s > 0.0:\n",
      "        mu = (s + x[0] ** 2) ** 0.5\n",
      "        if x[0] <= 0:\n",
      "            v[0] = x[0] - mu\n",
      "        else:\n",
      "            v[0] = -s / (x[0] + mu)\n",
      "        beta = 2 * v[0] ** 2 / (s + v[0] ** 2)\n",
      "        v /= v[0]\n",
      "    else:\n",
      "        assert False\n",
      "        beta = 0.0 if x[0] >= 0.0 else -2.0\n",
      "    v = v.reshape(n, 1)    \n",
      "    return v, beta\n",
      "\n",
      "#test\n",
      "n = 1000\n",
      "eps = 1e-7\n",
      "x = np.random.rand(n)\n",
      "v, beta = house(x)\n",
      "x = x.reshape(n, 1)\n",
      "v = v.reshape(n, 1)\n",
      "P = np.identity(n) - beta * np.dot(v, v.T)\n",
      "assert_equal(np.dot(P, P.T), np.identity(n))\n",
      "assert_equal(np.dot(P.T, P), np.identity(n))\n",
      "e1 = np.zeros(n).reshape(n, 1)\n",
      "e1[0] = 1.0\n",
      "assert_equal(np.dot(P, x), norm(x) * e1)"
     ],
     "language": "python",
     "metadata": {},
     "outputs": [],
     "prompt_number": 1017
    },
    {
     "cell_type": "code",
     "collapsed": false,
     "input": [
      "def hess(A):\n",
      "    A = A.copy()\n",
      "    shape = A.shape\n",
      "    assert shape[0] == shape[1]\n",
      "    n = shape[0]\n",
      "    for i in range(n - 2):\n",
      "        v, beta = house(A[i + 1:, i])\n",
      "        v = v.reshape(n - i - 1, 1)\n",
      "        I = np.identity(n - i - 1)\n",
      "        A[i + 1:, i:] = np.dot(I - beta * np.dot(v, v.T), A[i + 1:, i:])\n",
      "        A[:, i + 1:] = np.dot(A[:, i + 1:], I - beta * np.dot(v, v.T))\n",
      "    return A\n",
      "\n",
      "#test\n",
      "eps = 10 ** (-7)\n",
      "n = 400\n",
      "A = np.random.rand(n, n)\n",
      "L = hess(A)\n",
      "L_eig = lin.eig(L)[0]\n",
      "A_eig = lin.eig(A)[0]\n",
      "L_eig_real = L_eig.real\n",
      "A_eig_real = A_eig.real\n",
      "L_eig_real.sort()\n",
      "A_eig_real.sort()\n",
      "assert_equal(L_eig_real, A_eig_real)\n",
      "L_eig_imag = L_eig.imag\n",
      "A_eig_imag = A_eig.imag\n",
      "L_eig_imag.sort()\n",
      "A_eig_imag.sort()\n",
      "assert_equal(L_eig_imag, A_eig_imag)\n",
      "\n",
      "T = L.copy()\n",
      "for i in range(n - 2):\n",
      "    T[i + 2:, i] = 0\n",
      "assert_equal(L, T)"
     ],
     "language": "python",
     "metadata": {},
     "outputs": [],
     "prompt_number": 1018
    },
    {
     "cell_type": "code",
     "collapsed": false,
     "input": [
      "def q_2_by_2(A):\n",
      "    n, m = A.shape\n",
      "    assert n == m == 2\n",
      "    R = A.copy()\n",
      "    v, beta = house(A[:, 0])\n",
      "    Q = np.identity(2) - beta * np.dot(v, v.T)\n",
      "    return Q\n",
      "\n",
      "def single_shift_2_by_2(A):\n",
      "    n, m = A.shape\n",
      "    assert n == m == 2\n",
      "    mu = A[1, 1]\n",
      "    Q = q_2_by_2(A - np.identity(2) * mu)\n",
      "    A[:, :] = np.dot(Q.T, A - mu * np.identity(2))\n",
      "    A[:, :] = np.dot(A, Q) + mu * np.identity(2)\n",
      "    return Q\n",
      "\n",
      "#test\n",
      "iterations = 100\n",
      "eps = 1e-9\n",
      "A = np.diag(np.random.rand(2))\n",
      "C = np.random.rand(2, 2)\n",
      "A = np.dot(np.dot(lin.inv(C), A), C)\n",
      "t_eigenval = lin.eig(A)[0]\n",
      "t_eigenval = t_eigenval.real\n",
      "t_eigenval.sort()\n",
      "i = 0\n",
      "while abs(A[1, 0]) > eps:\n",
      "    B = A.copy()\n",
      "    Q = single_shift_2_by_2(B)\n",
      "    assert_equal(np.dot(np.dot(Q.T, A), Q), B)\n",
      "    A = B\n",
      "    i += 1\n",
      "    if i > iterations:\n",
      "        assert False\n",
      "        \n",
      "e_eigenval = np.array([A[0, 0], A[1, 1]])\n",
      "e_eigenval.sort()\n",
      "assert_equal(e_eigenval, t_eigenval)\n",
      "\n",
      "def single_shift_2_by_2_iteration(H, H12, H23):\n",
      "    Q = single_shift_2_by_2(H)\n",
      "    H12[:,:] = np.dot(H12, Q)\n",
      "    H23[:,:] = np.dot(Q.T, H23)"
     ],
     "language": "python",
     "metadata": {},
     "outputs": [],
     "prompt_number": 1019
    },
    {
     "cell_type": "code",
     "collapsed": false,
     "input": [
      "def francis_qr_step(H):#, H12, H23):\n",
      "    shape = H.shape\n",
      "    assert shape[0] == shape[1]\n",
      "    n = shape[0] - 1\n",
      "    m = n - 1\n",
      "    s = H[m, m] + H[n, n]\n",
      "    t = H[m, m] * H[n, n] - H[m, n] * H[n, m]\n",
      "    #print('s = ', s, ' t = ', t)\n",
      "    x = H[0, 0] ** 2 + H[0, 1] * H[1, 0] - s * H[0, 0] + t\n",
      "    y = H[1, 0] * (H[0, 0] + H[1, 1] - s)\n",
      "    if n > 1:\n",
      "        z = H[1, 0] * H[2, 1]\n",
      "    for k in range(n - 1):\n",
      "        v, beta = house(np.array([x, y, z]))\n",
      "        #print('beta is ', beta)\n",
      "        q = k - 1 if k > 0 else k\n",
      "        H[k: k+3, q:] = np.dot(np.identity(3) - beta * np.dot(v, v.T), H[k: k+3, q:])\n",
      "        r = min(k + 4, n + 1)\n",
      "        H[:r, k:k+3] = np.dot(H[:r, k:k+3], np.identity(3) - beta * np.dot(v, v.T))\n",
      "        x = H[k+1, k]\n",
      "        y = H[k+2, k]\n",
      "        if k < n - 2:\n",
      "            z = H[k + 3, k]\n",
      "    #print(x, y)\n",
      "    v, beta = house(np.array([x, y]))\n",
      "    H[n-1:, n-2:] = np.dot(np.identity(2) - beta * np.dot(v, v.T), H[n-1:, n-2:])\n",
      "    H[:, n-1:] = np.dot(H[:, n-1:], np.identity(2) - beta * np.dot(v, v.T))"
     ],
     "language": "python",
     "metadata": {},
     "outputs": [],
     "prompt_number": 1020
    },
    {
     "cell_type": "code",
     "collapsed": false,
     "input": [
      "def discr(A):\n",
      "    return (A[0, 0] - A[1, 1]) ** 2 + 4 * A[0, 1] * A[1, 0]\n",
      "    \n",
      "def schur(A):\n",
      "    eps = 1e-11\n",
      "    A = A.copy()\n",
      "    shape = A.shape\n",
      "    assert shape[0] == shape[1]\n",
      "    n = shape[0]\n",
      "    q = n\n",
      "    structure = []\n",
      "    while q > 1:\n",
      "        #print('q = ', q)\n",
      "        for i in reversed(range(q)):\n",
      "            if i == 0 and q == 2 or abs(A[i, i - 1]) < eps * np.max(np.abs([A[i, i], A[i - 1][i - 1]])):\n",
      "                A[i, i - 1] = 0.0\n",
      "                if i == q - 1:\n",
      "                    q -= 1\n",
      "                    structure.insert(0, i)\n",
      "                elif i == q - 2:\n",
      "                    B = A[i:i+2, i:i+2]\n",
      "                    if discr(B) > eps:\n",
      "                        #print('real eigenvalues')\n",
      "                        #print(q - i)\n",
      "                        #print(B)\n",
      "                        single_shift_2_by_2_iteration(B, A[:i, i:q], A[i:q, :i])\n",
      "                    else:\n",
      "                        q -= 2\n",
      "                        structure.insert(0, i)\n",
      "                else:\n",
      "                    #print(A)\n",
      "                    francis_qr_step(A[i:q, i:q])\n",
      "                break\n",
      "        else:\n",
      "            #if q == 13:\n",
      "            #    print(A[:q, :q])\n",
      "            francis_qr_step(A[:q, :q])\n",
      "    structure.insert(0, 0)\n",
      "    return A, structure\n",
      "\n",
      "#test\n",
      "#n = 100\n",
      "#A = np.random.rand(n, n)\n",
      "#B = hess(A)\n",
      "#L = schur(B)[0]\n",
      "\n",
      "n = 7\n",
      "A = np.diag(np.random.rand(n))\n",
      "#A = np.random.rand(n, n)\n",
      "#A = np.array([[3, 0, 0], [0, 3, 0], [0, 0, 1]], dtype=float)\n",
      "C = np.random.rand(n, n)\n",
      "A = np.dot(np.dot(lin.inv(C), A), C)\n",
      "\n",
      "B = hess(A)\n",
      "L = schur(B)[0]\n",
      "print(L)\n",
      "\n",
      "eps = 1e-9\n",
      "for i in range(n):\n",
      "    for j in range(i + 1, n):\n",
      "        if abs(L[j, i]) > eps:\n",
      "            print(abs(L[j, i]))\n",
      "            assert False\n",
      "\n",
      "L_eig = lin.eig(L)[0].real\n",
      "A_eig = lin.eig(A)[0].real\n",
      "\n",
      "#print(L_eig)\n",
      "#print(A_eig)\n",
      "\n",
      "A_eig.sort()\n",
      "L_eig.sort()\n",
      "\n",
      "print(L_eig)\n",
      "print(A_eig)\n",
      "\n",
      "print(np.max(np.abs(A_eig - L_eig)))\n",
      "\n",
      "#L_eig = np.array(L_eig, dtype=float)\n",
      "#A_eig = np.array(A_eig, dtype=float)\n",
      "\n",
      "#assert_equal(L_eig.sort(), A_eig.sort())\n",
      "\n",
      "#L_eig_real = L_eig.real\n",
      "#A_eig_real = A_eig.real\n",
      "#L_eig_real.sort()\n",
      "#A_eig_real.sort()\n",
      "#assert_equal(L_eig_real, A_eig_real)\n",
      "#L_eig_imag = L_eig.imag\n",
      "#A_eig_imag = A_eig.imag\n",
      "#L_eig_imag.sort()\n",
      "#A_eig_imag.sort()\n",
      "#assert_equal(L_eig_imag, A_eig_imag)"
     ],
     "language": "python",
     "metadata": {},
     "outputs": [
      {
       "output_type": "stream",
       "stream": "stdout",
       "text": [
        "[[ 0.736611    0.00871605  1.39661206  0.34583268 -0.91886861  0.98308933\n",
        "   0.        ]\n",
        " [ 0.          0.72916057  0.40185196  1.51235698 -0.21880798 -0.44060942\n",
        "   1.09016028]\n",
        " [ 0.          0.          0.07013579 -0.04087325  0.00574803 -1.15117356\n",
        "  -0.26971597]\n",
        " [-0.         -0.          0.          0.12358276  0.1455466  -0.14327133\n",
        "  -1.12294185]\n",
        " [ 0.          0.          0.          0.          0.42172445 -0.13776844\n",
        "  -0.20225501]\n",
        " [-0.          0.         -0.          0.          0.          0.25849411\n",
        "   0.01379001]\n",
        " [ 0.         -0.         -0.         -0.          0.          0.\n",
        "   0.30166298]]\n",
        "[ 0.07013579  0.12358276  0.25849411  0.30166298  0.42172445  0.72916057\n",
        "  0.736611  ]\n",
        "[ 0.07013579  0.12358276  0.25849411  0.30166298  0.42172445  0.72916057\n",
        "  0.736611  ]\n",
        "1.35425004544e-12\n"
       ]
      }
     ],
     "prompt_number": 1021
    },
    {
     "cell_type": "code",
     "collapsed": false,
     "input": [
      "n = 4\n",
      "#A = np.diag(np.random.rand(n))\n",
      "A = np.random.rand(n, n)\n",
      "#A = np.array([[3, 0, 0], [0, 3, 0], [0, 0, 1]], dtype=float)\n",
      "C = np.random.rand(n, n)\n",
      "A = np.dot(np.dot(lin.inv(C), A), C)\n",
      "print(lin.eig(A)[0])\n",
      "#x = A\n",
      "#print(x)\n",
      "\n",
      "\n",
      "A = hess(A)\n",
      "schur(A)\n",
      "#eigenvalues = eigenval(A)\n",
      "#print(eigenvalues)\n",
      "#x = inverse_iteration(A, eigenvalues[0])\n",
      "#print(x)\n",
      "#np.max(np.abs(np.dot(A - eigenvalues[0] * np.identity(A.shape[0]), x)))"
     ],
     "language": "python",
     "metadata": {},
     "outputs": [
      {
       "output_type": "stream",
       "stream": "stdout",
       "text": [
        "[ 2.07449839+0.j         -0.18619981+0.j          0.24507550+0.26951428j\n",
        "  0.24507550-0.26951428j]\n"
       ]
      },
      {
       "metadata": {},
       "output_type": "pyout",
       "prompt_number": 1103,
       "text": [
        "(array([[  2.07449839,  14.76415763, -16.34660135,   0.        ],\n",
        "        [  0.        ,  -0.18619981,   0.28369696,   0.69658477],\n",
        "        [  0.        ,   0.        ,   0.29147262,  -0.19950766],\n",
        "        [  0.        ,   0.        ,   0.37487603,   0.19867838]]), [0, 1, 2])"
       ]
      }
     ],
     "prompt_number": 1103
    },
    {
     "cell_type": "code",
     "collapsed": false,
     "input": [
      "def eigenval_2_by_2(A):\n",
      "    B = np.array(A, dtype=complex)\n",
      "    a = B[0,0]\n",
      "    b = B[0,1]\n",
      "    c = B[1,0]\n",
      "    d = B[1,1]\n",
      "    discr = np.sqrt((a - d) ** 2 + 4 * b * c)\n",
      "    x = (a + d + discr) / 2\n",
      "    y = (a + d - discr) / 2\n",
      "    return x, y\n",
      "\n",
      "def eigenval(A):\n",
      "    A = hess(A)\n",
      "    A, structure = schur(A)\n",
      "    structure.append(A.shape[0])\n",
      "    eigenvalues = []\n",
      "    #print(structure)\n",
      "    for i, val in enumerate(structure[:-1]):\n",
      "        n = structure[i+1] - structure[i]\n",
      "        if n == 1:\n",
      "            eigenvalues.append(A[val, val])\n",
      "        elif n == 2:\n",
      "            x, y = eigenval_2_by_2(A[val:val+2, val:val+2])\n",
      "            eigenvalues.extend([x, y])\n",
      "        else:\n",
      "            assert False, 'Not schur form'\n",
      "    return eigenvalues\n",
      "\n",
      "#test\n",
      "n = 10\n",
      "A = np.random.rand(n, n)\n",
      "\n",
      "L_eig = np.array(eigenval(A))\n",
      "A_eig = lin.eig(A)[0]\n",
      "L_eig_real = L_eig.real\n",
      "A_eig_real = A_eig.real\n",
      "L_eig_real.sort()\n",
      "A_eig_real.sort()\n",
      "assert_equal(L_eig_real, A_eig_real)\n",
      "L_eig_imag = L_eig.imag\n",
      "A_eig_imag = A_eig.imag\n",
      "L_eig_imag.sort()\n",
      "A_eig_imag.sort()\n",
      "assert_equal(L_eig_imag, A_eig_imag)"
     ],
     "language": "python",
     "metadata": {},
     "outputs": [],
     "prompt_number": 1022
    },
    {
     "cell_type": "code",
     "collapsed": false,
     "input": [
      "def inverse_iteration(A, l, tol=1e-7):\n",
      "    'A is a matrix, l is an eigenvector of A'\n",
      "    shape = A.shape\n",
      "    assert shape[0] == shape[1]\n",
      "    n = shape[0]\n",
      "    A = np.array(A, dtype=complex)\n",
      "    x = np.ones(n).reshape(n, 1)\n",
      "    x = x / norm(x)\n",
      "    r = norm(np.dot(A - l * np.identity(n), x))\n",
      "    i = 0\n",
      "    while r > eps and i < 100:\n",
      "        x = gauss(A - np.identity(n) * l, x)\n",
      "        x = x / norm(x)\n",
      "        #l = np.dot(np.dot(x.T, A), x)\n",
      "        r = np.max(np.abs(np.dot(A - l * np.identity(n), x)))\n",
      "        i += 1\n",
      "    else:\n",
      "        #print('converged after ', i, ' iterations')\n",
      "        return x\n",
      "    assert False, 'no convergence'\n",
      "\n",
      "#test\n",
      "atol = 1e-9\n",
      "n = 100\n",
      "A = np.random.rand(n, n)\n",
      "\n",
      "eigenvalues, eigenvectors = lin.eig(A)\n",
      "for eigenvalue in eigenvalues:\n",
      "    x = inverse_iteration(A, eigenvalue)\n",
      "    r = np.max(np.abs(np.dot(A - eigenvalue * np.identity(A.shape[0]), x)))\n",
      "    assert r < atol"
     ],
     "language": "python",
     "metadata": {},
     "outputs": [],
     "prompt_number": 1171
    },
    {
     "cell_type": "code",
     "collapsed": false,
     "input": [
      "n = 10\n",
      "A = np.random.rand(n, n)\n",
      "t = lin.eig(A)\n",
      "e = eigenval(A)\n",
      "print(t[0])\n",
      "print(e)\n",
      "\n",
      "k = 0\n",
      "print('\\n', k, '-s eigenvector', sep=\"\")\n",
      "l = t[0][k]\n",
      "print(t[1][:, k].reshape(n, 1))\n",
      "x = inverse_iteration(A, l)\n",
      "print('\\n', x)\n",
      "\n",
      "print('\\n\\n')\n",
      "print(np.dot(A, x))\n",
      "print(l * x)"
     ],
     "language": "python",
     "metadata": {},
     "outputs": [
      {
       "output_type": "stream",
       "stream": "stdout",
       "text": [
        "[ 5.33038999+0.j         -0.96640968+0.47796316j -0.96640968-0.47796316j\n",
        "  0.01163732+0.70809279j  0.01163732-0.70809279j -0.45467532+0.23867326j\n",
        " -0.45467532-0.23867326j  0.12997599+0.j          0.27729235+0.25998701j\n",
        "  0.27729235-0.25998701j]\n",
        "[5.330389989746827, (-0.96640967692271018+0.47796315950642715j), (-0.96640967692271018-0.47796315950642715j), (0.011637315344279781+0.70809279439785211j), (0.011637315344279781-0.70809279439785211j), (-0.4546753197323975+0.23867326112529708j), (-0.4546753197323975-0.23867326112529708j), 0.12997599498496523, (0.27729235068176944+0.25998700691422072j), (0.27729235068176944-0.25998700691422072j)]\n",
        "\n",
        "0-s eigenvector\n",
        "[[ 0.31608197+0.j]\n",
        " [ 0.32406044+0.j]\n",
        " [ 0.30884277+0.j]\n",
        " [ 0.36483076+0.j]\n",
        " [ 0.34461138+0.j]\n",
        " [ 0.38378787+0.j]\n",
        " [ 0.26813486+0.j]\n",
        " [ 0.24365438+0.j]\n",
        " [ 0.30673234+0.j]\n",
        " [ 0.27421352+0.j]]\n",
        "\n",
        " [[-0.31608197+0.j]\n",
        " [-0.32406044+0.j]\n",
        " [-0.30884277+0.j]\n",
        " [-0.36483076+0.j]\n",
        " [-0.34461138+0.j]\n",
        " [-0.38378787+0.j]\n",
        " [-0.26813486+0.j]\n",
        " [-0.24365438+0.j]\n",
        " [-0.30673234+0.j]\n",
        " [-0.27421352+0.j]]\n",
        "\n",
        "\n",
        "\n",
        "[[-1.68484015+0.j]\n",
        " [-1.72736854+0.j]\n",
        " [-1.64625243+0.j]\n",
        " [-1.94469023+0.j]\n",
        " [-1.83691303+0.j]\n",
        " [-2.04573903+0.j]\n",
        " [-1.42926340+0.j]\n",
        " [-1.29877288+0.j]\n",
        " [-1.63500301+0.j]\n",
        " [-1.46166499+0.j]]\n",
        "[[-1.68484015+0.j]\n",
        " [-1.72736854+0.j]\n",
        " [-1.64625243+0.j]\n",
        " [-1.94469023+0.j]\n",
        " [-1.83691303+0.j]\n",
        " [-2.04573903+0.j]\n",
        " [-1.42926340+0.j]\n",
        " [-1.29877288+0.j]\n",
        " [-1.63500301+0.j]\n",
        " [-1.46166499+0.j]]\n"
       ]
      }
     ],
     "prompt_number": 1170
    },
    {
     "cell_type": "code",
     "collapsed": false,
     "input": [
      "n = 4\n",
      "A = np.diag(np.random.rand(n))\n",
      "#A = np.random.rand(n, n)\n",
      "#A = np.array([[3, 0, 0], [0, 1, 0], [0, 0, 3]], dtype=float)\n",
      "C = np.random.rand(n, n)\n",
      "A = np.dot(np.dot(lin.inv(C), A), C)\n",
      "A = hess(A)\n",
      "#schur(A)\n",
      "A, lin.eig(A)[0]"
     ],
     "language": "python",
     "metadata": {},
     "outputs": [
      {
       "metadata": {},
       "output_type": "pyout",
       "prompt_number": 794,
       "text": [
        "(array([[ 0.10344611, -1.04640521, -0.02945646, -0.53264751],\n",
        "        [ 0.2320553 ,  1.12693653,  0.04661753,  0.22590089],\n",
        "        [ 0.        ,  0.32403138,  0.83881893, -0.35335518],\n",
        "        [ 0.        ,  0.        , -0.15537448,  0.55701986]]),\n",
        " array([ 0.98568865+0.j,  0.73508443+0.j,  0.56911545+0.j,  0.33633290+0.j]))"
       ]
      }
     ],
     "prompt_number": 794
    },
    {
     "cell_type": "code",
     "collapsed": false,
     "input": [
      "francis_qr_step(A[:, :], 4)\n",
      "A"
     ],
     "language": "python",
     "metadata": {},
     "outputs": [
      {
       "metadata": {},
       "output_type": "pyout",
       "prompt_number": 799,
       "text": [
        "array([[ 0.86736004, -0.09263077, -0.46619492, -0.03365278],\n",
        "       [ 0.42581023,  0.43685762, -0.56634077,  1.10405181],\n",
        "       [ 0.        ,  0.00001614,  0.33631513,  0.24348823],\n",
        "       [ 0.        ,  0.        , -0.        ,  0.98568865]])"
       ]
      }
     ],
     "prompt_number": 799
    },
    {
     "cell_type": "code",
     "collapsed": false,
     "input": [
      "francis_qr_step(A[0:3, 0:3], 3)\n",
      "A"
     ],
     "language": "python",
     "metadata": {},
     "outputs": [
      {
       "metadata": {},
       "output_type": "pyout",
       "prompt_number": 801,
       "text": [
        "array([[ 0.7393991 , -0.51710514, -0.73172977, -0.03365278],\n",
        "       [ 0.00142083,  0.56480078,  0.05080632,  1.10405181],\n",
        "       [ 0.        ,  0.        ,  0.3363329 ,  0.24348823],\n",
        "       [ 0.        ,  0.        , -0.        ,  0.98568865]])"
       ]
      }
     ],
     "prompt_number": 801
    },
    {
     "cell_type": "code",
     "collapsed": false,
     "input": [
      "francis_qr_step(A[1:3, 1:3], 2)\n",
      "A"
     ],
     "language": "python",
     "metadata": {},
     "outputs": [
      {
       "ename": "NameError",
       "evalue": "name 'francis_qr_step' is not defined",
       "output_type": "pyerr",
       "traceback": [
        "\u001b[0;31m---------------------------------------------------------------------------\u001b[0m\n\u001b[0;31mNameError\u001b[0m                                 Traceback (most recent call last)",
        "\u001b[0;32m<ipython-input-1-da114bc297d5>\u001b[0m in \u001b[0;36m<module>\u001b[0;34m()\u001b[0m\n\u001b[0;32m----> 1\u001b[0;31m \u001b[0mfrancis_qr_step\u001b[0m\u001b[0;34m(\u001b[0m\u001b[0mA\u001b[0m\u001b[0;34m[\u001b[0m\u001b[0;36m1\u001b[0m\u001b[0;34m:\u001b[0m\u001b[0;36m3\u001b[0m\u001b[0;34m,\u001b[0m \u001b[0;36m1\u001b[0m\u001b[0;34m:\u001b[0m\u001b[0;36m3\u001b[0m\u001b[0;34m]\u001b[0m\u001b[0;34m)\u001b[0m\u001b[0;34m\u001b[0m\u001b[0m\n\u001b[0m\u001b[1;32m      2\u001b[0m \u001b[0mA\u001b[0m\u001b[0;34m\u001b[0m\u001b[0m\n",
        "\u001b[0;31mNameError\u001b[0m: name 'francis_qr_step' is not defined"
       ]
      }
     ],
     "prompt_number": 1
    },
    {
     "cell_type": "code",
     "collapsed": false,
     "input": [
      "A"
     ],
     "language": "python",
     "metadata": {},
     "outputs": [
      {
       "metadata": {},
       "output_type": "pyout",
       "prompt_number": 807,
       "text": [
        "array([[ 0.7393991 , -0.51710514, -0.73172977, -0.03365278],\n",
        "       [ 0.00142083,  0.56480078,  0.05080632,  1.10405181],\n",
        "       [ 0.        ,  0.        ,  0.3363329 ,  0.24348823],\n",
        "       [ 0.        ,  0.        , -0.        ,  0.98568865]])"
       ]
      }
     ],
     "prompt_number": 807
    },
    {
     "cell_type": "code",
     "collapsed": false,
     "input": [
      "single_shift_2_by_2(B)\n",
      "B"
     ],
     "language": "python",
     "metadata": {},
     "outputs": [
      {
       "metadata": {},
       "output_type": "pyout",
       "prompt_number": 806,
       "text": [
        "array([[ 0.73508443,  0.51852597, -0.7312804 , -0.02443984],\n",
        "       [-0.        ,  0.56911545, -0.05690982, -1.10429417],\n",
        "       [ 0.        , -0.        ,  0.3363329 ,  0.24348823],\n",
        "       [ 0.        ,  0.        , -0.        ,  0.98568865]])"
       ]
      }
     ],
     "prompt_number": 806
    },
    {
     "cell_type": "code",
     "collapsed": false,
     "input": [
      "n = 5\n",
      "A = np.diag(np.random.rand(n))\n",
      "#A = np.random.rand(n, n)\n",
      "#A = np.array([[3, 0], [0, 3]], dtype=float)\n",
      "C = np.random.rand(n, n)\n",
      "A = np.dot(np.dot(lin.inv(C), A), C)\n",
      "A, lin.eig(A)[0]"
     ],
     "language": "python",
     "metadata": {},
     "outputs": [
      {
       "metadata": {},
       "output_type": "pyout",
       "prompt_number": 785,
       "text": [
        "(array([[ 0.21979171, -0.15783694, -0.15315055, -0.47893977, -0.17737711],\n",
        "        [-0.02970851,  0.20067985, -0.12217604, -0.20760719, -0.18038435],\n",
        "        [-0.0417262 , -0.11773794,  0.18534874, -0.19737288, -0.06904216],\n",
        "        [-0.08666877,  0.03367083, -0.05547579,  0.39322406,  0.07753689],\n",
        "        [ 0.24522263,  0.28135801,  0.36520544,  0.68999515,  0.63733951]]),\n",
        " array([ 0.61492517+0.j,  0.08479084+0.j,  0.39179028+0.j,  0.32914391+0.j,\n",
        "         0.21573366+0.j]))"
       ]
      }
     ],
     "prompt_number": 785
    },
    {
     "cell_type": "code",
     "collapsed": false,
     "input": [
      "single_shift_2_by_2(A)\n",
      "A\n",
      "#A[:2, :] - np.identity(2)"
     ],
     "language": "python",
     "metadata": {},
     "outputs": [
      {
       "metadata": {},
       "output_type": "pyout",
       "prompt_number": 790,
       "text": [
        "array([[ 0.27937634,  0.12812842, -0.10013082, -0.37475226, -0.10223815],\n",
        "       [-0.        ,  0.14109522,  0.16839208,  0.36337968,  0.23140552],\n",
        "       [ 0.00254542,  0.12488723,  0.18534874, -0.19737288, -0.06904216],\n",
        "       [-0.0929753 , -0.00089132, -0.05547579,  0.39322406,  0.07753689],\n",
        "       [ 0.1300496 , -0.34983364,  0.36520544,  0.68999515,  0.63733951]])"
       ]
      }
     ],
     "prompt_number": 790
    },
    {
     "cell_type": "code",
     "collapsed": false,
     "input": [
      "mu = A[1, 1]\n",
      "print(mu)\n",
      "Q = q_2_by_2(A - np.identity(2) * mu)\n",
      "A = np.dot(np.dot(Q.T, A - np.identity(2) * mu), Q) + mu * np.identity(2)\n",
      "A"
     ],
     "language": "python",
     "metadata": {},
     "outputs": [
      {
       "output_type": "stream",
       "stream": "stdout",
       "text": [
        "0.162078880412\n"
       ]
      },
      {
       "metadata": {},
       "output_type": "pyout",
       "prompt_number": 709,
       "text": [
        "array([[  0.9256405 ,  17.87907884],\n",
        "       [  0.        ,   0.16207888]])"
       ]
      }
     ],
     "prompt_number": 709
    },
    {
     "cell_type": "code",
     "collapsed": false,
     "input": [],
     "language": "python",
     "metadata": {},
     "outputs": [
      {
       "metadata": {},
       "output_type": "pyout",
       "prompt_number": 723,
       "text": [
        "array([[ 0.62034828,  0.10410142],\n",
        "       [ 0.        ,  0.52891787]])"
       ]
      }
     ],
     "prompt_number": 723
    },
    {
     "cell_type": "code",
     "collapsed": false,
     "input": [
      "Q, R"
     ],
     "language": "python",
     "metadata": {},
     "outputs": [
      {
       "metadata": {},
       "output_type": "pyout",
       "prompt_number": 73,
       "text": [
        "(array([[-0.94027639,  0.34041197],\n",
        "        [ 0.34041197,  0.94027639]]), array([[-1.367686  , -1.12274934],\n",
        "        [-0.        ,  0.22108124]]))"
       ]
      }
     ],
     "prompt_number": 73
    },
    {
     "cell_type": "code",
     "collapsed": false,
     "input": [
      "    mu = A[1, 1]\n",
      "    Q = q_2_by_2(A[:2,:2] - np.identity(2) * mu)\n",
      "    print(np.dot(Q.T, A))\n",
      "    A[:2, :] = np.dot(Q.T, A[:2,:])\n",
      "    print(A)\n",
      "    A[:, :2] = np.dot(A[:, :2], Q + mu * np.identity(2))\n",
      "    print(A)"
     ],
     "language": "python",
     "metadata": {},
     "outputs": [
      {
       "output_type": "stream",
       "stream": "stdout",
       "text": [
        "[[ 3.31301567  0.16041747]\n",
        " [ 0.         -0.06404643]]\n",
        "[[ 3.31301567  0.16041747]\n",
        " [ 0.         -0.06404643]]\n",
        "[[ 3.5252025  -0.1501433 ]\n",
        " [ 0.          0.05994449]]\n"
       ]
      }
     ],
     "prompt_number": 849
    },
    {
     "cell_type": "code",
     "collapsed": false,
     "input": [
      "A = np.random.rand(2, 2)\n",
      "#print(A)\n",
      "#Q = q_2_by_2(A)\n",
      "#print(np.dot(Q, Q.T))\n",
      "#np.dot(Q.T, A)"
     ],
     "language": "python",
     "metadata": {},
     "outputs": [],
     "prompt_number": 826
    },
    {
     "cell_type": "code",
     "collapsed": false,
     "input": [
      "Q = q_2_by_2(A)\n",
      "print(np.dot(Q, Q.T))\n",
      "A = np.dot(np.dot(Q.T, A), Q)\n",
      "A"
     ],
     "language": "python",
     "metadata": {},
     "outputs": [
      {
       "output_type": "stream",
       "stream": "stdout",
       "text": [
        "[[ 1.  0.]\n",
        " [ 0.  1.]]\n"
       ]
      },
      {
       "metadata": {},
       "output_type": "pyout",
       "prompt_number": 850,
       "text": [
        "array([[ 3.5252025 ,  0.1501433 ],\n",
        "       [-0.        ,  0.05994449]])"
       ]
      }
     ],
     "prompt_number": 850
    },
    {
     "cell_type": "code",
     "collapsed": false,
     "input": [
      "A = np.diag(np.random.rand(2))\n",
      "C = np.random.rand(2, 2)\n",
      "A = np.dot(np.dot(lin.inv(C), A), C)\n",
      "lin.eig(A)[0]"
     ],
     "language": "python",
     "metadata": {},
     "outputs": [
      {
       "metadata": {},
       "output_type": "pyout",
       "prompt_number": 860,
       "text": [
        "array([ 0.89996495+0.j,  0.24845513+0.j])"
       ]
      }
     ],
     "prompt_number": 860
    },
    {
     "cell_type": "code",
     "collapsed": false,
     "input": [
      "B = A.copy()\n",
      "print(B)\n",
      "Q = single_shift_2_by_2(A)\n",
      "print(A)\n",
      "B = np.dot(Q.T, B)\n",
      "B = np.dot(B, Q)\n",
      "print(B)\n",
      "A = B"
     ],
     "language": "python",
     "metadata": {},
     "outputs": [
      {
       "output_type": "stream",
       "stream": "stdout",
       "text": [
        "[[ 1.77459502  1.07273075]\n",
        " [-1.24430837 -0.62617494]]\n",
        "[[ 1.77459502  1.07273075]\n",
        " [-1.24430837 -0.62617494]]\n",
        "[[ 1.33633371 -2.08989023]\n",
        " [ 0.22714888 -0.18791363]]\n"
       ]
      }
     ],
     "prompt_number": 861
    }
   ],
   "metadata": {}
  }
 ]
}