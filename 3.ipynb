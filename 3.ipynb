{
 "metadata": {
  "name": "",
  "signature": "sha256:f55a2c005f59e0ef724397daf0bee9f935bd65ed71cb74a1d0894b2f10025018"
 },
 "nbformat": 3,
 "nbformat_minor": 0,
 "worksheets": [
  {
   "cells": [
    {
     "cell_type": "code",
     "collapsed": false,
     "input": [
      "import numpy as np\n",
      "import scipy.linalg as lin\n",
      "\n",
      "eps = 1e-7\n",
      "np.set_printoptions(suppress=True)\n",
      "assert_equal = lambda x, y: np.testing.assert_allclose(x, y, atol=eps)"
     ],
     "language": "python",
     "metadata": {},
     "outputs": [],
     "prompt_number": 37
    },
    {
     "cell_type": "code",
     "collapsed": false,
     "input": [
      "def gauss(A: np.array, b: np.array):\n",
      "    \"\"\"Solves equation Ax=b for invertible matrix A, using gaussian elimination.\n",
      "    A is numpy array (n, n)\n",
      "    b is numpy array (n, 1)\n",
      "    returns x as numpy array (n, 1)\"\"\"\n",
      "    assert(A.shape[0] == A.shape[1] == b.shape[0] and b.shape[1] == 1)\n",
      "    n = A.shape[0]\n",
      "    A = np.hstack((A, b))\n",
      "    \n",
      "    for i in range(n):\n",
      "        max_i = i + np.abs(A[i:,i]).argmax()\n",
      "        A[[i, max_i], :] = A[[max_i, i],:]        \n",
      "        A[i] /= A[i, i] \n",
      "        A[i + 1:] -= np.tile(A[i], (n - i - 1, 1)) * A[i + 1:, i].reshape((n - i - 1, 1))\n",
      "    x = A[:, n].copy()\n",
      "    for i in reversed(range(0, n)):\n",
      "        x[i] -= np.sum(A[i, i + 1:n] * x[i + 1:])\n",
      "    return x.reshape((n, 1))"
     ],
     "language": "python",
     "metadata": {},
     "outputs": [],
     "prompt_number": 45
    },
    {
     "cell_type": "code",
     "collapsed": false,
     "input": [
      "def norm(x):\n",
      "    return np.sum(np.abs(x) ** 2) ** 0.5\n",
      "\n",
      "#test\n",
      "eps = 10 ** (-7)\n",
      "x = np.array([1.0, 2.0])\n",
      "assert_equal(norm(x) ** 2, 5.0)"
     ],
     "language": "python",
     "metadata": {},
     "outputs": [],
     "prompt_number": 39
    },
    {
     "cell_type": "code",
     "collapsed": false,
     "input": [
      "def house(x):\n",
      "    eps = 10 ** (-14)\n",
      "    n = x.shape[0]\n",
      "    s = norm(x[1:]) ** 2\n",
      "    v = x.copy()\n",
      "    v[0] = 1.0\n",
      "    if s > 0.0:\n",
      "        mu = (s + x[0] ** 2) ** 0.5\n",
      "        if x[0] <= 0:\n",
      "            v[0] = x[0] - mu\n",
      "        else:\n",
      "            v[0] = -s / (x[0] + mu)\n",
      "        beta = 2 * v[0] ** 2 / (s + v[0] ** 2)\n",
      "        v /= v[0]\n",
      "    else:\n",
      "        #assert False\n",
      "        beta = 0.0 if x[0] >= 0.0 else -2.0\n",
      "    v = v.reshape(n, 1)    \n",
      "    return v, beta\n",
      "\n",
      "#test\n",
      "n = 1000\n",
      "eps = 1e-7\n",
      "x = np.random.rand(n)\n",
      "v, beta = house(x)\n",
      "x = x.reshape(n, 1)\n",
      "v = v.reshape(n, 1)\n",
      "P = np.identity(n) - beta * np.dot(v, v.T)\n",
      "assert_equal(np.dot(P, P.T), np.identity(n))\n",
      "assert_equal(np.dot(P.T, P), np.identity(n))\n",
      "e1 = np.zeros(n).reshape(n, 1)\n",
      "e1[0] = 1.0\n",
      "assert_equal(np.dot(P, x), norm(x) * e1)"
     ],
     "language": "python",
     "metadata": {},
     "outputs": [],
     "prompt_number": 3
    },
    {
     "cell_type": "code",
     "collapsed": false,
     "input": [
      "def hess(A):\n",
      "    A = A.copy()\n",
      "    shape = A.shape\n",
      "    assert shape[0] == shape[1]\n",
      "    n = shape[0]\n",
      "    for i in range(n - 2):\n",
      "        v, beta = house(A[i + 1:, i])\n",
      "        v = v.reshape(n - i - 1, 1)\n",
      "        I = np.identity(n - i - 1)\n",
      "        A[i + 1:, i:] = np.dot(I - beta * np.dot(v, v.T), A[i + 1:, i:])\n",
      "        A[:, i + 1:] = np.dot(A[:, i + 1:], I - beta * np.dot(v, v.T))\n",
      "    return A\n",
      "\n",
      "#test\n",
      "eps = 10 ** (-7)\n",
      "n = 100\n",
      "A = np.random.rand(n, n)\n",
      "L = hess(A)\n",
      "L_eig = lin.eig(L)[0]\n",
      "A_eig = lin.eig(A)[0]\n",
      "L_eig_real = L_eig.real\n",
      "A_eig_real = A_eig.real\n",
      "L_eig_real.sort()\n",
      "A_eig_real.sort()\n",
      "assert_equal(L_eig_real, A_eig_real)\n",
      "L_eig_imag = L_eig.imag\n",
      "A_eig_imag = A_eig.imag\n",
      "L_eig_imag.sort()\n",
      "A_eig_imag.sort()\n",
      "assert_equal(L_eig_imag, A_eig_imag)\n",
      "\n",
      "T = L.copy()\n",
      "for i in range(n - 2):\n",
      "    T[i + 2:, i] = 0\n",
      "assert_equal(L, T)"
     ],
     "language": "python",
     "metadata": {},
     "outputs": [],
     "prompt_number": 4
    },
    {
     "cell_type": "code",
     "collapsed": false,
     "input": [
      "def francis_qr_step(H):\n",
      "    shape = H.shape\n",
      "    assert shape[0] == shape[1]\n",
      "    n = shape[0] - 1\n",
      "    m = n - 1\n",
      "    s = H[m, m] + H[n, n]\n",
      "    t = H[m, m] * H[n, n] - H[m, n] * H[n, m]\n",
      "    #print('s = ', s, ' t = ', t)\n",
      "    x = H[0, 0] ** 2 + H[0, 1] * H[1, 0] - s * H[0, 0] + t\n",
      "    y = H[1, 0] * (H[0, 0] + H[1, 1] - s)\n",
      "    if n > 1:\n",
      "        z = H[1, 0] * H[2, 1]\n",
      "    for k in range(n - 1):\n",
      "        v, beta = house(np.array([x, y, z]))\n",
      "        #print('beta is ', beta)\n",
      "        q = k - 1 if k > 0 else k\n",
      "        H[k: k+3, q:] = np.dot(np.identity(3) - beta * np.dot(v, v.T), H[k: k+3, q:])\n",
      "        r = min(k + 4, n + 1)\n",
      "        H[:r, k:k+3] = np.dot(H[:r, k:k+3], np.identity(3) - beta * np.dot(v, v.T))\n",
      "        x = H[k+1, k]\n",
      "        y = H[k+2, k]\n",
      "        if k < n - 2:\n",
      "            z = H[k + 3, k]\n",
      "    #print(x, y)\n",
      "    v, beta = house(np.array([x, y]))\n",
      "    H[n-1:, n-2:] = np.dot(np.identity(2) - beta * np.dot(v, v.T), H[n-1:, n-2:])\n",
      "    H[:, n-1:] = np.dot(H[:, n-1:], np.identity(2) - beta * np.dot(v, v.T))\n",
      "    #return H\n",
      "\n",
      "def schur(A):\n",
      "    eps = 1e-9\n",
      "    A = A.copy()\n",
      "    shape = A.shape\n",
      "    assert shape[0] == shape[1]\n",
      "    n = shape[0]\n",
      "    q = n\n",
      "    structure = []\n",
      "    while q > 1:\n",
      "        for i in reversed(range(1, q)):\n",
      "            if abs(A[i, i - 1]) < eps:\n",
      "                A[i, i - 1] = 0.0\n",
      "                if i == q - 1:\n",
      "                    q -= 1\n",
      "                    structure.insert(0, i)\n",
      "                    #print(q)\n",
      "                elif i == q - 2:\n",
      "                    q -= 2\n",
      "                    structure.insert(0, i)\n",
      "                    #print(q)\n",
      "                else:\n",
      "                    francis_qr_step(A[i:q, i:q])\n",
      "                    #print(A)\n",
      "                break\n",
      "        else:\n",
      "            if q > 2:\n",
      "                francis_qr_step(A[:q, :q])\n",
      "                #print(A)\n",
      "            else:\n",
      "                break\n",
      "    structure.insert(0, 0)\n",
      "    return A, structure\n",
      "\n",
      "#test\n",
      "n = 10\n",
      "A = np.random.rand(n, n)\n",
      "A = hess(A)\n",
      "L = schur(A)[0]\n",
      "\n",
      "L_eig = lin.eig(L)[0]\n",
      "A_eig = lin.eig(A)[0]\n",
      "L_eig_real = L_eig.real\n",
      "A_eig_real = A_eig.real\n",
      "L_eig_real.sort()\n",
      "A_eig_real.sort()\n",
      "assert_equal(L_eig_real, A_eig_real)\n",
      "L_eig_imag = L_eig.imag\n",
      "A_eig_imag = A_eig.imag\n",
      "L_eig_imag.sort()\n",
      "A_eig_imag.sort()\n",
      "assert_equal(L_eig_imag, A_eig_imag)\n",
      "\n",
      "\n",
      "def eigenval_2_by_2(A):\n",
      "    B = np.array(A, dtype=complex)\n",
      "    a = B[0,0]\n",
      "    b = B[0,1]\n",
      "    c = B[1,0]\n",
      "    d = B[1,1]\n",
      "    discr = np.sqrt((a - d) ** 2 + 4 * b * c)\n",
      "    x = (a + d + discr) / 2\n",
      "    y = (a + d - discr) / 2\n",
      "    return x, y\n",
      "\n",
      "def eigenval(A):\n",
      "    A = hess(A)\n",
      "    A, structure = schur(A)\n",
      "    structure.append(A.shape[0])\n",
      "    eigenvalues = []\n",
      "    #print(structure)\n",
      "    for i, val in enumerate(structure[:-1]):\n",
      "        n = structure[i+1] - structure[i]\n",
      "        if n == 1:\n",
      "            eigenvalues.append(A[val, val])\n",
      "        elif n == 2:\n",
      "            x, y = eigenval_2_by_2(A[val:val+2, val:val+2])\n",
      "            eigenvalues.extend([x, y])\n",
      "        else:\n",
      "            assert False, 'Not schur form'\n",
      "    return eigenvalues\n",
      "\n",
      "#test\n",
      "n = 10\n",
      "A = np.random.rand(n, n)\n",
      "\n",
      "L_eig = np.array(eigenval(A))\n",
      "A_eig = lin.eig(A)[0]\n",
      "L_eig_real = L_eig.real\n",
      "A_eig_real = A_eig.real\n",
      "L_eig_real.sort()\n",
      "A_eig_real.sort()\n",
      "assert_equal(L_eig_real, A_eig_real)\n",
      "L_eig_imag = L_eig.imag\n",
      "A_eig_imag = A_eig.imag\n",
      "L_eig_imag.sort()\n",
      "A_eig_imag.sort()\n",
      "assert_equal(L_eig_imag, A_eig_imag)"
     ],
     "language": "python",
     "metadata": {},
     "outputs": [],
     "prompt_number": 36
    },
    {
     "cell_type": "code",
     "collapsed": false,
     "input": [
      "def inverse_iteration(A, l, tol=1e-7):\n",
      "    'A is a matrix, l is an eigenvector of A'\n",
      "    shape = A.shape\n",
      "    assert shape[0] == shape[1]\n",
      "    n = shape[0]\n",
      "    A = np.array(A, dtype=complex)\n",
      "    x = np.ones(n).reshape(n, 1)\n",
      "    x = x / norm(x)\n",
      "    r = norm(np.dot(A - l * np.identity(n), x))\n",
      "    i = 0\n",
      "    while r > eps and i < 100:\n",
      "        x = gauss(A - np.identity(n) * l, x)\n",
      "        x = x / norm(x)\n",
      "        #l = np.dot(np.dot(x.T, A), x)\n",
      "        r = np.max(np.abs(np.dot(A - l * np.identity(n), x)))\n",
      "        print(r)\n",
      "        i += 1\n",
      "    else:\n",
      "        print('converged after ', i, ' iterations')\n",
      "        return x\n",
      "    assert False, 'no convergence'\n",
      "\n",
      "#test\n",
      "atol = 1e-7\n",
      "n = 100\n",
      "A = np.random.rand(n, n)\n",
      "\n",
      "eigenvalues, eigenvectors = lin.eig(A)\n",
      "for eigenvalue in eigenvalues:\n",
      "    x = inverse_iteration(A, eigenvalue)\n",
      "    r = np.max(np.abs(np.dot(A - eigenvalue * np.identity(A.shape[0]), x)))\n",
      "    assert r < atol"
     ],
     "language": "python",
     "metadata": {},
     "outputs": [
      {
       "output_type": "stream",
       "stream": "stdout",
       "text": [
        "7.9936057773e-15\n",
        "converged after  1  iterations\n",
        "1.14422360475e-14\n",
        "converged after  1  iterations\n",
        "1.9798236141e-13\n",
        "converged after  1  iterations\n",
        "1.9798236141e-13\n",
        "converged after  1  iterations\n",
        "1.26482682693e-13"
       ]
      },
      {
       "output_type": "stream",
       "stream": "stdout",
       "text": [
        "\n",
        "converged after  1  iterations\n",
        "1.26482682693e-13\n",
        "converged after  1  iterations\n",
        "1.07579071108e-13\n",
        "converged after  1  iterations\n",
        "1.07579071108e-13\n",
        "converged after  1  iterations\n",
        "1.00284366682e-13"
       ]
      },
      {
       "output_type": "stream",
       "stream": "stdout",
       "text": [
        "\n",
        "converged after  1  iterations\n",
        "1.00284366682e-13\n",
        "converged after  1  iterations\n",
        "3.46252815158e-14\n",
        "converged after  1  iterations\n",
        "3.46252815158e-14\n",
        "converged after  1  iterations\n",
        "5.6270791324e-14"
       ]
      },
      {
       "output_type": "stream",
       "stream": "stdout",
       "text": [
        "\n",
        "converged after  1  iterations\n",
        "5.6270791324e-14\n",
        "converged after  1  iterations\n",
        "1.03757634018e-13\n",
        "converged after  1  iterations\n",
        "1.03757634018e-13\n",
        "converged after  1  iterations\n",
        "2.10942374679e-14"
       ]
      },
      {
       "output_type": "stream",
       "stream": "stdout",
       "text": [
        "\n",
        "converged after  1  iterations\n",
        "5.76123916539e-14\n",
        "converged after  1  iterations\n",
        "5.76123916539e-14\n",
        "converged after  1  iterations\n",
        "5.30889363551e-14\n",
        "converged after  1  iterations\n",
        "5.30889363551e-14"
       ]
      },
      {
       "output_type": "stream",
       "stream": "stdout",
       "text": [
        "\n",
        "converged after  1  iterations\n",
        "1.59722599843e-14\n",
        "converged after  1  iterations\n",
        "1.59722599843e-14\n",
        "converged after  1  iterations\n",
        "7.01244648826e-14\n",
        "converged after  1  iterations\n",
        "7.01244648826e-14"
       ]
      },
      {
       "output_type": "stream",
       "stream": "stdout",
       "text": [
        "\n",
        "converged after  1  iterations\n",
        "4.05422226911e-14\n",
        "converged after  1  iterations\n",
        "4.05422226911e-14\n",
        "converged after  1  iterations\n",
        "1.74916273942e-13\n",
        "converged after  1  iterations\n",
        "1.74916273942e-13"
       ]
      },
      {
       "output_type": "stream",
       "stream": "stdout",
       "text": [
        "\n",
        "converged after  1  iterations\n",
        "4.0460952748e-14\n",
        "converged after  1  iterations\n",
        "4.0460952748e-14\n",
        "converged after  1  iterations\n",
        "5.75661470778e-15\n",
        "converged after  1  iterations\n",
        "5.75661470778e-15"
       ]
      },
      {
       "output_type": "stream",
       "stream": "stdout",
       "text": [
        "\n",
        "converged after  1  iterations\n",
        "1.58761907685e-14\n",
        "converged after  1  iterations\n",
        "1.58761907685e-14\n",
        "converged after  1  iterations\n",
        "3.84831443866e-14\n",
        "converged after  1  iterations\n",
        "3.84831443866e-14"
       ]
      },
      {
       "output_type": "stream",
       "stream": "stdout",
       "text": [
        "\n",
        "converged after  1  iterations\n",
        "1.28821238096e-14\n",
        "converged after  1  iterations\n",
        "1.28821238096e-14\n",
        "converged after  1  iterations\n",
        "2.1209428853e-13\n",
        "converged after  1  iterations\n",
        "2.1209428853e-13"
       ]
      },
      {
       "output_type": "stream",
       "stream": "stdout",
       "text": [
        "\n",
        "converged after  1  iterations\n",
        "3.62211930201e-14\n",
        "converged after  1  iterations\n",
        "3.62211930201e-14\n",
        "converged after  1  iterations\n",
        "2.1302902659e-14\n",
        "converged after  1  iterations\n",
        "2.1302902659e-14"
       ]
      },
      {
       "output_type": "stream",
       "stream": "stdout",
       "text": [
        "\n",
        "converged after  1  iterations\n",
        "2.26572403203e-14\n",
        "converged after  1  iterations\n",
        "2.26572403203e-14\n",
        "converged after  1  iterations\n",
        "1.15264034111e-14\n",
        "converged after  1  iterations\n",
        "1.15264034111e-14"
       ]
      },
      {
       "output_type": "stream",
       "stream": "stdout",
       "text": [
        "\n",
        "converged after  1  iterations\n",
        "1.73629416416e-14\n",
        "converged after  1  iterations\n",
        "1.73629416416e-14\n",
        "converged after  1  iterations\n",
        "1.51150834022e-14\n",
        "converged after  1  iterations\n",
        "1.51150834022e-14"
       ]
      },
      {
       "output_type": "stream",
       "stream": "stdout",
       "text": [
        "\n",
        "converged after  1  iterations\n",
        "8.99561484062e-14\n",
        "converged after  1  iterations\n",
        "8.99561484062e-14\n",
        "converged after  1  iterations\n",
        "8.90956020693e-15\n",
        "converged after  1  iterations\n",
        "8.90956020693e-15"
       ]
      },
      {
       "output_type": "stream",
       "stream": "stdout",
       "text": [
        "\n",
        "converged after  1  iterations\n",
        "1.04515016376e-14\n",
        "converged after  1  iterations\n",
        "1.04515016376e-14\n",
        "converged after  1  iterations\n",
        "5.52061016555e-14\n",
        "converged after  1  iterations\n",
        "5.52061016555e-14"
       ]
      },
      {
       "output_type": "stream",
       "stream": "stdout",
       "text": [
        "\n",
        "converged after  1  iterations\n",
        "2.3283495717e-14\n",
        "converged after  1  iterations\n",
        "2.3283495717e-14\n",
        "converged after  1  iterations\n",
        "3.67293760991e-15\n",
        "converged after  1  iterations\n",
        "3.67293760991e-15"
       ]
      },
      {
       "output_type": "stream",
       "stream": "stdout",
       "text": [
        "\n",
        "converged after  1  iterations\n",
        "5.728090803e-15\n",
        "converged after  1  iterations\n",
        "5.728090803e-15\n",
        "converged after  1  iterations\n",
        "4.24111757334e-15\n",
        "converged after  1  iterations\n",
        "4.24111757334e-15"
       ]
      },
      {
       "output_type": "stream",
       "stream": "stdout",
       "text": [
        "\n",
        "converged after  1  iterations\n",
        "8.4272866463e-15\n",
        "converged after  1  iterations\n",
        "3.09626199563e-14\n",
        "converged after  1  iterations\n",
        "3.09626199563e-14\n",
        "converged after  1  iterations\n",
        "2.68635780239e-14"
       ]
      },
      {
       "output_type": "stream",
       "stream": "stdout",
       "text": [
        "\n",
        "converged after  1  iterations\n",
        "2.68635780239e-14\n",
        "converged after  1  iterations\n",
        "6.92533333031e-15\n",
        "converged after  1  iterations\n",
        "6.92533333031e-15\n",
        "converged after  1  iterations\n",
        "3.53424652734e-15"
       ]
      },
      {
       "output_type": "stream",
       "stream": "stdout",
       "text": [
        "\n",
        "converged after  1  iterations\n",
        "3.53424652734e-15\n",
        "converged after  1  iterations\n",
        "6.66551463085e-15\n",
        "converged after  1  iterations\n",
        "6.66551463085e-15\n",
        "converged after  1  iterations\n",
        "1.61947599838e-14"
       ]
      },
      {
       "output_type": "stream",
       "stream": "stdout",
       "text": [
        "\n",
        "converged after  1  iterations\n",
        "1.61947599838e-14\n",
        "converged after  1  iterations\n",
        "1.14144860412e-14\n",
        "converged after  1  iterations\n",
        "1.14144860412e-14\n",
        "converged after  1  iterations\n",
        "6.61003855385e-15"
       ]
      },
      {
       "output_type": "stream",
       "stream": "stdout",
       "text": [
        "\n",
        "converged after  1  iterations\n",
        "6.61003855385e-15\n",
        "converged after  1  iterations\n",
        "7.93387193811e-15\n",
        "converged after  1  iterations\n",
        "7.93387193811e-15\n",
        "converged after  1  iterations\n",
        "7.21809412399e-15"
       ]
      },
      {
       "output_type": "stream",
       "stream": "stdout",
       "text": [
        "\n",
        "converged after  1  iterations\n",
        "7.21809412399e-15\n",
        "converged after  1  iterations\n",
        "1.66880398389e-14\n",
        "converged after  1  iterations\n",
        "2.34534613952e-15\n",
        "converged after  1  iterations\n",
        "1.73214862319e-14"
       ]
      },
      {
       "output_type": "stream",
       "stream": "stdout",
       "text": [
        "\n",
        "converged after  1  iterations\n",
        "1.73214862319e-14\n",
        "converged after  1  iterations\n",
        "1.66120830037e-14\n",
        "converged after  1  iterations\n",
        "1.66120830037e-14\n",
        "converged after  1  iterations\n",
        "3.14315630814e-14"
       ]
      },
      {
       "output_type": "stream",
       "stream": "stdout",
       "text": [
        "\n",
        "converged after  1  iterations\n",
        "1.2635725799e-14\n",
        "converged after  1  iterations\n",
        "3.93435284352e-15\n",
        "converged after  1  iterations\n",
        "2.87964097012e-15\n",
        "converged after  1  iterations\n"
       ]
      }
     ],
     "prompt_number": 124
    },
    {
     "cell_type": "code",
     "collapsed": true,
     "input": [
      "n = 10\n",
      "A = np.random.rand(n, n)\n",
      "#A = np.array([[1, -3, 4], [4, -7, 8], [6, -7, 7]], dtype=float)\n",
      "#x = A\n",
      "#print(x)\n",
      "\n",
      "#A = hess(A)\n",
      "eigenvalues = eigenval(A)\n",
      "print(eigenvalues)\n",
      "x = inverse_iteration(A, eigenvalues[0])\n",
      "print(x)\n",
      "np.max(np.abs(np.dot(A - eigenvalues[0] * np.identity(A.shape[0]), x)))"
     ],
     "language": "python",
     "metadata": {},
     "outputs": [
      {
       "output_type": "stream",
       "stream": "stdout",
       "text": [
        "[4.775747588713517, -1.2916511958597798, (-0.066196109298421332+0.70190445609839969j), (-0.066196109298421332-0.70190445609839969j), (0.72469795462123232+0.23637707814058431j), (0.72469795462123232-0.23637707814058431j), 0.63153587428336244, -0.48973696542914952, (-0.27600020922939661+0.25994633560254571j), (-0.27600020922939661-0.25994633560254571j)]\n",
        "[[ 0.31622777]\n",
        " [ 0.31622777]\n",
        " [ 0.31622777]\n",
        " [ 0.31622777]\n",
        " [ 0.31622777]\n",
        " [ 0.31622777]\n",
        " [ 0.31622777]\n",
        " [ 0.31622777]\n",
        " [ 0.31622777]\n",
        " [ 0.31622777]]\n",
        "1.21335164138e-11\n",
        "converged after  1  iterations\n",
        "[[-0.27288208+0.j]\n",
        " [-0.37294766+0.j]\n",
        " [-0.31546214+0.j]\n",
        " [-0.34319151+0.j]\n",
        " [-0.26487019+0.j]\n",
        " [-0.31404380+0.j]\n",
        " [-0.24333559+0.j]\n",
        " [-0.34428468+0.j]\n",
        " [-0.23224059+0.j]\n",
        " [-0.41071776+0.j]]\n"
       ]
      },
      {
       "metadata": {},
       "output_type": "pyout",
       "prompt_number": 115,
       "text": [
        "1.2133516413825873e-11"
       ]
      }
     ],
     "prompt_number": 115
    },
    {
     "cell_type": "code",
     "collapsed": false,
     "input": [
      "n = 10\n",
      "x = np.random.rand(n, n)\n",
      "print(lin.eig(x)[0])\n",
      "x = hess(x)\n",
      "print(eigenval(x))\n",
      "x = hess(x)\n",
      "print(eigenval(x))\n",
      "x"
     ],
     "language": "python",
     "metadata": {},
     "outputs": [
      {
       "output_type": "stream",
       "stream": "stdout",
       "text": [
        "[ 4.84513777+0.j         -1.34960299+0.j         -0.47366445+0.98992624j\n",
        " -0.47366445-0.98992624j  0.27457793+0.66919752j  0.27457793-0.66919752j\n",
        "  0.56858099+0.j         -0.48647459+0.j         -0.02020541+0.21735804j\n",
        " -0.02020541-0.21735804j]\n",
        "[4.8451377659426962, -1.3496029872494164, (-0.47366445224815856+0.98992624494502635j), (-0.47366445224815856-0.98992624494502635j), (0.27457793381508022+0.66919751548850959j), (0.27457793381508022-0.66919751548850959j), 0.56858098820142078, (-0.020205407697610436+0.21735804374789577j), (-0.020205407697610436-0.21735804374789577j), -0.48647458923039194]\n",
        "[4.8451377659426962, -1.3496029872494251, (-0.47366445224815745+0.98992624494502424j), (-0.47366445224815745-0.98992624494502424j), (0.27457793381507978+0.66919751548850936j), (0.27457793381507978-0.66919751548850936j), 0.56858098820142067, (-0.020205407697610547+0.21735804374789611j), (-0.020205407697610547-0.21735804374789611j), -0.48647458923039261]\n"
       ]
      },
      {
       "metadata": {},
       "output_type": "pyout",
       "prompt_number": 35,
       "text": [
        "array([[ 0.06072877,  0.94573041,  0.39635611,  0.11088835, -0.51450966,\n",
        "         0.32022261, -0.13804562, -0.29280939, -0.00970019,  0.24294596],\n",
        "       [ 1.95768809,  3.7021236 ,  1.49311517,  0.64381121,  0.05996122,\n",
        "        -0.41763519, -0.17705029, -0.13094588,  0.33239429,  0.18684525],\n",
        "       [ 0.        ,  1.97935219,  0.2251299 ,  0.19995254, -0.18653192,\n",
        "         0.21143214, -0.5141484 ,  0.08268361,  0.4147054 ,  0.09061392],\n",
        "       [-0.        ,  0.        ,  0.83596477, -0.5443621 , -0.10703128,\n",
        "        -0.08380721, -0.360038  , -0.03412759, -0.04250463, -0.27767908],\n",
        "       [-0.        ,  0.        , -0.        ,  1.15157371, -0.49915231,\n",
        "        -0.01087163,  0.19943938,  0.42529377, -0.26070825,  0.00812921],\n",
        "       [-0.        ,  0.        ,  0.        ,  0.        ,  0.77554407,\n",
        "         0.20776589, -0.37018847,  0.21050324, -0.11042517,  0.42442808],\n",
        "       [-0.        ,  0.        ,  0.        ,  0.        , -0.        ,\n",
        "         0.47416556,  0.18619761, -0.41771394, -0.16381165, -0.56097587],\n",
        "       [ 0.        , -0.        , -0.        , -0.        ,  0.        ,\n",
        "        -0.        ,  0.60049184,  0.33746134, -0.04629307, -0.36429882],\n",
        "       [-0.        ,  0.        , -0.        , -0.        , -0.        ,\n",
        "         0.        ,  0.        ,  0.28282098, -0.37718826, -0.06172837],\n",
        "       [-0.        ,  0.        , -0.        , -0.        ,  0.        ,\n",
        "         0.        , -0.        , -0.        , -0.2935461 , -0.1596471 ]])"
       ]
      }
     ],
     "prompt_number": 35
    }
   ],
   "metadata": {}
  }
 ]
}