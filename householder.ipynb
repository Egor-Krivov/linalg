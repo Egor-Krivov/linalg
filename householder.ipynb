{
 "metadata": {
  "name": "",
  "signature": "sha256:be1ef4233cd66a096aa98e08f8c359cd87d14c35e8488dbf10109ddedd24bf8c"
 },
 "nbformat": 3,
 "nbformat_minor": 0,
 "worksheets": [
  {
   "cells": [
    {
     "cell_type": "code",
     "collapsed": false,
     "input": [
      "import numpy as np"
     ],
     "language": "python",
     "metadata": {},
     "outputs": [],
     "prompt_number": 3
    },
    {
     "cell_type": "code",
     "collapsed": false,
     "input": [
      "def listPrint(l):\n",
      "    for i in l:\n",
      "        print(i)"
     ],
     "language": "python",
     "metadata": {},
     "outputs": [],
     "prompt_number": 4
    },
    {
     "cell_type": "code",
     "collapsed": false,
     "input": [
      "def dot(A, B):\n",
      "    assert(A.shape[1] == B.shape[0])\n",
      "    C = np.zeros((A.shape[0], B.shape[1]))\n",
      "    for i in range(A.shape[0]):\n",
      "        for j in range(B.shape[1]):\n",
      "            for k in range(A.shape[1]):\n",
      "                C[i, j] += A[i, k] * B[k, j]\n",
      "    return C\n",
      "#test\n",
      "eps = 10 ** (-10)\n",
      "n, m, k = 100, 90, 98\n",
      "A = np.random.rand(n, k)\n",
      "B = np.random.rand(k, m)\n",
      "assert(np.max(np.abs(dot(A, B) - np.dot(A, B))) < eps)"
     ],
     "language": "python",
     "metadata": {},
     "outputs": [],
     "prompt_number": 5
    },
    {
     "cell_type": "code",
     "collapsed": false,
     "input": [
      "def hLeftDot(H, A, k):\n",
      "    C = np.zeros(A.shape)\n",
      "    C[:k] = A[:k]\n",
      "    C[k:, k:] = dot(H, A[k:, k:])\n",
      "    #Matrix looks better without numbers like -2.22044605e-16\n",
      "    #In general case this is not right\n",
      "    C[k + 1:, k] = 0.0\n",
      "    return C"
     ],
     "language": "python",
     "metadata": {},
     "outputs": [],
     "prompt_number": 6
    },
    {
     "cell_type": "code",
     "collapsed": false,
     "input": [
      "def hRightDot(A, H, k):\n",
      "    C = np.zeros(A.shape)\n",
      "    C[:k] = A[:k]\n",
      "    C[k:, k:] = dot(A[k:, k:], H)\n",
      "    return C"
     ],
     "language": "python",
     "metadata": {},
     "outputs": [],
     "prompt_number": 7
    },
    {
     "cell_type": "code",
     "collapsed": false,
     "input": [
      "def hDot(l):\n",
      "    n = len(l)\n",
      "    for i in reversed(range(n - 1)):\n",
      "        l[i] = hRightDot(l[i], l[i+1], 1)\n",
      "    return l[0]\n",
      "    "
     ],
     "language": "python",
     "metadata": {},
     "outputs": [],
     "prompt_number": 8
    },
    {
     "cell_type": "code",
     "collapsed": false,
     "input": [
      "def norm(a):\n",
      "    n = 0\n",
      "    for i in range(a.shape[0]):\n",
      "        n += a[i] ** 2\n",
      "    return n ** (0.5)\n",
      "#test\n",
      "eps = 10 ** (-30)\n",
      "n = 1000\n",
      "a = np.random.rand(n)\n",
      "assert(abs(norm(a) - np.linalg.norm(a)) < eps)"
     ],
     "language": "python",
     "metadata": {},
     "outputs": [],
     "prompt_number": 9
    },
    {
     "cell_type": "code",
     "collapsed": false,
     "input": [
      "def swapColumns(A, l):\n",
      "    n = A.shape[1]\n",
      "    positions = list(range(n))\n",
      "    for i, j in l:\n",
      "        positions[i], positions[j] = positions[j], positions[i]\n",
      "    A = A[:, positions]\n",
      "    return A"
     ],
     "language": "python",
     "metadata": {},
     "outputs": [],
     "prompt_number": 36
    },
    {
     "cell_type": "code",
     "collapsed": false,
     "input": [
      "def householderQROld(A):\n",
      "    A = A.copy()\n",
      "    eps = 10 ** (-7)\n",
      "    shape = A.shape\n",
      "    assert(shape[0] >= shape[1])\n",
      "    Hlist = []\n",
      "    for i in range(shape[1]):\n",
      "        v = A[i:, i].copy()\n",
      "        mu = norm(v)\n",
      "        assert(mu > eps)\n",
      "        v[0] += np.sign(v[0])*mu\n",
      "        #v[1:] /= beta\n",
      "        #assert(abs(v[0] - 1) < eps)\n",
      "        H = np.identity(shape[0] - i)\n",
      "        v = v.reshape(v.shape[0], 1)\n",
      "        H -= 2 * dot(v, v.T)/(norm(v) ** 2)\n",
      "        Hlist.append(H)\n",
      "        A = hLeftDot(H, A, i)\n",
      "    Q = hDot(Hlist)\n",
      "    R = A\n",
      "    #Q looks better\n",
      "    #Q = Q.round(-14)\n",
      "    #return R\n",
      "    return [Q, R]"
     ],
     "language": "python",
     "metadata": {},
     "outputs": [],
     "prompt_number": 8
    },
    {
     "cell_type": "code",
     "collapsed": false,
     "input": [
      "def householderQR(A):\n",
      "    A = A.copy()\n",
      "    eps = 10 ** (-7)\n",
      "    shape = A.shape\n",
      "    assert(shape[0] >= shape[1])\n",
      "    Hlist = []\n",
      "    for i in range(shape[1]):\n",
      "        v = A[i:, i].copy()\n",
      "        mu = norm(v)\n",
      "        if mu > eps:\n",
      "            v[0] += np.sign(v[0])*mu\n",
      "            #v[1:] /= beta\n",
      "            #assert(abs(v[0] - 1) < eps)\n",
      "            H = np.identity(shape[0] - i)\n",
      "            v = v.reshape(v.shape[0], 1)\n",
      "            H -= 2 * dot(v, v.T)/(norm(v) ** 2)\n",
      "        else:\n",
      "            H = np.identity(shape[0] - i)\n",
      "        Hlist.append(H)\n",
      "        A = hLeftDot(H, A, i)\n",
      "    Q = hDot(Hlist)\n",
      "    R = A\n",
      "    #Q looks better\n",
      "    #Q = Q.round(-14)\n",
      "    #return R\n",
      "    return [Q, R]"
     ],
     "language": "python",
     "metadata": {},
     "outputs": [],
     "prompt_number": 1
    },
    {
     "cell_type": "code",
     "collapsed": false,
     "input": [
      "def householderQRBetter(A):\n",
      "    \n",
      "    A = A.copy()\n",
      "    eps = 10 ** (-7)\n",
      "    shape = A.shape\n",
      "    assert(shape[0] >= shape[1])\n",
      "    degraded = shape[1]\n",
      "    HList = []\n",
      "    rList = []\n",
      "    for i in range(shape[1]):\n",
      "        while degraded > i:\n",
      "            v = A[i:, i].copy()\n",
      "            mu = norm(v)\n",
      "            if mu > eps:\n",
      "                v[0] += np.sign(v[0])*mu\n",
      "                #v[1:] /= beta\n",
      "                #assert(abs(v[0] - 1) < eps)\n",
      "                H = np.identity(shape[0] - i)\n",
      "                v = v.reshape(v.shape[0], 1)\n",
      "                H -= 2 * dot(v, v.T)/(norm(v) ** 2)\n",
      "                HList.append(H)\n",
      "                A = hLeftDot(H, A, i)\n",
      "                break\n",
      "            else:\n",
      "                degraded -= 1\n",
      "                rList.append((i, degraded))\n",
      "                temp = A[:,degraded].copy()\n",
      "                A[:,degraded] = A[:, i]\n",
      "                A[:,i] = temp\n",
      "                continue\n",
      "        else:\n",
      "            break\n",
      "    \n",
      "    Q = hDot(HList)\n",
      "    R = swapColumns(A, reversed(rList))\n",
      "    #R looks better\n",
      "    R = R.round(14)\n",
      "    return [Q, R]"
     ],
     "language": "python",
     "metadata": {},
     "outputs": [],
     "prompt_number": 34
    },
    {
     "cell_type": "code",
     "collapsed": false,
     "input": [
      "A = np.array([[1, 2, 0], [1, 2, 1], [1, 2, 0]], dtype=float)\n",
      "#A = np.random.rand(30, 20)\n",
      "#A = np.array([[1, 2], [1, 4]], dtype=float)\n",
      "\n",
      "Q, R = householderQRBetter(A)\n",
      "print(Q)\n",
      "print(R)\n",
      "print('True R')\n",
      "Q, R = np.linalg.qr(A, mode='complete')\n",
      "listPrint(R)\n",
      "\n",
      "#tests\n",
      "print('Tests\\n')\n",
      "eps = 10 ** (-12)\n",
      "assert(np.max(np.abs(dot(Q, R) - A)) < eps)\n",
      "print('1/2')\n",
      "assert(np.max(np.abs(dot(Q, Q.T) - np.identity(Q.shape[0]))))\n",
      "print('2/2')"
     ],
     "language": "python",
     "metadata": {},
     "outputs": [
      {
       "output_type": "stream",
       "stream": "stdout",
       "text": [
        "[[-0.57735027 -0.57735027 -0.57735027]\n",
        " [ 0.         -0.81649658  0.        ]\n",
        " [ 0.          0.40824829  0.70710678]]\n",
        "[[-1.73205081 -3.46410162 -0.57735027]\n",
        " [ 0.          0.         -0.81649658]\n",
        " [ 0.         -0.          0.        ]]\n",
        "True R\n",
        "[-1.73205081 -3.46410162 -0.57735027]\n",
        "[ 0.          0.          0.78867513]\n",
        "[ 0.          0.         -0.21132487]\n",
        "Tests\n",
        "\n",
        "1/2\n",
        "2/2\n"
       ]
      }
     ],
     "prompt_number": 38
    },
    {
     "cell_type": "code",
     "collapsed": false,
     "input": [
      "a = np.arange(9).reshape(3, 3)\n",
      "swapColumns(a, [(0,1), (0, 1), (0, 2)])"
     ],
     "language": "python",
     "metadata": {},
     "outputs": [
      {
       "output_type": "stream",
       "stream": "stdout",
       "text": [
        "[2, 1, 0]\n"
       ]
      },
      {
       "metadata": {},
       "output_type": "pyout",
       "prompt_number": 15,
       "text": [
        "array([[2, 1, 0],\n",
        "       [5, 4, 3],\n",
        "       [8, 7, 6]])"
       ]
      }
     ],
     "prompt_number": 15
    }
   ],
   "metadata": {}
  }
 ]
}